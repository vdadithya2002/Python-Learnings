{
  "nbformat": 4,
  "nbformat_minor": 0,
  "metadata": {
    "colab": {
      "provenance": [],
      "authorship_tag": "ABX9TyMQIDjVxGzxeESJ3sfLHRP8",
      "include_colab_link": true
    },
    "kernelspec": {
      "name": "python3",
      "display_name": "Python 3"
    },
    "language_info": {
      "name": "python"
    }
  },
  "cells": [
    {
      "cell_type": "markdown",
      "metadata": {
        "id": "view-in-github",
        "colab_type": "text"
      },
      "source": [
        "<a href=\"https://colab.research.google.com/github/vdadithya2002/Python-Learnings/blob/main/PyhtonDay14.ipynb\" target=\"_parent\"><img src=\"https://colab.research.google.com/assets/colab-badge.svg\" alt=\"Open In Colab\"/></a>"
      ]
    },
    {
      "cell_type": "markdown",
      "source": [
        "#**To Do List**\n",
        "#**Project**"
      ],
      "metadata": {
        "id": "Q5Py_M7Mpo-u"
      }
    },
    {
      "cell_type": "markdown",
      "source": [
        "Features to be contain in this app\n",
        "\n",
        "1.Add Task\n",
        "\n",
        "2.View Tasks\n",
        "\n",
        "3.Delete Task\n",
        "\n",
        "4.Save & Load from File"
      ],
      "metadata": {
        "id": "pwHcfr6dp4Fl"
      }
    },
    {
      "cell_type": "markdown",
      "source": [
        "Step 1:-\n"
      ],
      "metadata": {
        "id": "0fm3ueYFqHfj"
      }
    },
    {
      "cell_type": "code",
      "execution_count": 1,
      "metadata": {
        "id": "EGuGPWAFpcQb"
      },
      "outputs": [],
      "source": [
        "import os\n",
        "\n",
        "tasks = []"
      ]
    },
    {
      "cell_type": "markdown",
      "source": [
        "Step 2 :- Create function to load taks"
      ],
      "metadata": {
        "id": "VRnRtvFoqNaO"
      }
    },
    {
      "cell_type": "code",
      "source": [
        "from random import choice\n",
        "def load_tasks():\n",
        "  if os.path.exists(\"tasks.txt\"):\n",
        "    with open(\"tasks.txt\", \"r\") as file:\n",
        "      for line in file:\n",
        "        tasks.append(line.strip())"
      ],
      "metadata": {
        "id": "CuDtT85mtgL4"
      },
      "execution_count": 3,
      "outputs": []
    },
    {
      "cell_type": "markdown",
      "source": [
        "Step 3:- Create function to Save tasks"
      ],
      "metadata": {
        "id": "caNY4QTrtjBS"
      }
    },
    {
      "cell_type": "code",
      "source": [
        "def save_tasks():\n",
        "  with open(\"tasks.txt\", \"w\" ) as file:\n",
        "    for task in tasks:\n",
        "      file.write(task + \"\\n\")"
      ],
      "metadata": {
        "id": "kYeB3lZAtrrk"
      },
      "execution_count": 4,
      "outputs": []
    },
    {
      "cell_type": "markdown",
      "source": [
        "Step 4:- Create function to Add Tasks"
      ],
      "metadata": {
        "id": "3bvI-Wmqtt7Z"
      }
    },
    {
      "cell_type": "code",
      "source": [
        "def add_task():\n",
        "  task = input(\"Enter a new task: \")\n",
        "  tasks.append(task)\n",
        "  print(\"Task added successfully\")"
      ],
      "metadata": {
        "id": "cE-5SU3rty8o"
      },
      "execution_count": 5,
      "outputs": []
    },
    {
      "cell_type": "markdown",
      "source": [
        "Step 5:- Create function to View tasks"
      ],
      "metadata": {
        "id": "FzBbYQcWt1Os"
      }
    },
    {
      "cell_type": "code",
      "source": [
        "def view_tasks():\n",
        "  if not tasks:\n",
        "    print(\"No tasks found\")\n",
        "  else:\n",
        "    print(\"\\n Your Tasks:\")\n",
        "    for i, task in enumerate(tasks, start=1):\n",
        "      print(f\"{i}.{task}\")"
      ],
      "metadata": {
        "id": "JlFLVYT5t7xj"
      },
      "execution_count": 6,
      "outputs": []
    },
    {
      "cell_type": "markdown",
      "source": [
        "Step 6:- Create function to delete task"
      ],
      "metadata": {
        "id": "456r6zZst-BF"
      }
    },
    {
      "cell_type": "code",
      "source": [
        "def delete_task():\n",
        "  view_tasks()\n",
        "  try:\n",
        "    task_num = int(input(\"Enter task number to delete : \"))\n",
        "    if 1 <= task_num <= len(tasks):\n",
        "      removed = tasks.pop(task_num - 1)\n",
        "      print(f\"Delted task: {removed}\")\n",
        "    else:\n",
        "      print(\"Invalid task number\")\n",
        "  except ValueError:\n",
        "      print(\"Please Enter a Number>\")"
      ],
      "metadata": {
        "id": "Ml5v9-VTuE4o"
      },
      "execution_count": 9,
      "outputs": []
    },
    {
      "cell_type": "markdown",
      "source": [
        "Create function for Menu"
      ],
      "metadata": {
        "id": "EeMKXeqXuJ8E"
      }
    },
    {
      "cell_type": "code",
      "source": [
        "\n",
        "def menu():\n",
        "  while True:\n",
        "    print(\"\\n To-Do List Menu:\")\n",
        "    print(\"1. View Tasks\")\n",
        "    print(\"2. Add Tasks\")\n",
        "    print(\"3. Delete Task\")\n",
        "    print(\"4. Quit\")\n",
        "    choice  = input(\"Enter your choice (1/2/3/4): \")\n",
        "\n",
        "    if choice == \"1\":\n",
        "      view_tasks()\n",
        "    elif choice == \"2\":\n",
        "      add_task()\n",
        "    elif choice == \"3\":\n",
        "      delete_task()\n",
        "    elif choice == \"4\":\n",
        "      save_tasks()\n",
        "      print(\"Goodbye!\")\n",
        "      break\n",
        "    else:\n",
        "      print(\"invalid Option. Try again\")\n",
        "\n",
        "load_tasks()\n",
        "menu()\n",
        "\n",
        "\n"
      ],
      "metadata": {
        "colab": {
          "base_uri": "https://localhost:8080/"
        },
        "id": "5K-RDeoiqMHy",
        "outputId": "6670d983-29b7-4650-c399-4f9a2d52ac3a"
      },
      "execution_count": 8,
      "outputs": [
        {
          "output_type": "stream",
          "name": "stdout",
          "text": [
            "\n",
            " To-Do List Menu:\n",
            "1. View Tasks\n",
            "2. Add Tasks\n",
            "3. Delete Task\n",
            "4. Quit\n",
            "Enter your choice (1/2/3/4): 2\n",
            "Enter a new task: Need to wakeup at  5 am\n",
            "Task added successfully\n",
            "\n",
            " To-Do List Menu:\n",
            "1. View Tasks\n",
            "2. Add Tasks\n",
            "3. Delete Task\n",
            "4. Quit\n",
            "Enter your choice (1/2/3/4): 1\n",
            "\n",
            " Your Tasks:\n",
            "1.Need to exercise at 5 pm\n",
            "2.Need to exercise at 5 pm\n",
            "3.Need to wakeup at  5 am\n",
            "\n",
            " To-Do List Menu:\n",
            "1. View Tasks\n",
            "2. Add Tasks\n",
            "3. Delete Task\n",
            "4. Quit\n",
            "Enter your choice (1/2/3/4): 1\n",
            "\n",
            " Your Tasks:\n",
            "1.Need to exercise at 5 pm\n",
            "2.Need to exercise at 5 pm\n",
            "3.Need to wakeup at  5 am\n",
            "\n",
            " To-Do List Menu:\n",
            "1. View Tasks\n",
            "2. Add Tasks\n",
            "3. Delete Task\n",
            "4. Quit\n",
            "Enter your choice (1/2/3/4): 3\n",
            "\n",
            " Your Tasks:\n",
            "1.Need to exercise at 5 pm\n",
            "2.Need to exercise at 5 pm\n",
            "3.Need to wakeup at  5 am\n",
            "Enter task number to deleteL 1\n",
            "Delted task: Need to exercise at 5 pm\n",
            "\n",
            " To-Do List Menu:\n",
            "1. View Tasks\n",
            "2. Add Tasks\n",
            "3. Delete Task\n",
            "4. Quit\n",
            "Enter your choice (1/2/3/4): 4\n",
            "Goodbye!\n"
          ]
        }
      ]
    },
    {
      "cell_type": "code",
      "source": [],
      "metadata": {
        "id": "zLf99BwltF_y"
      },
      "execution_count": null,
      "outputs": []
    }
  ]
}