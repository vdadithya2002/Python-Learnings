{
  "nbformat": 4,
  "nbformat_minor": 0,
  "metadata": {
    "colab": {
      "provenance": [],
      "authorship_tag": "ABX9TyMMYNQhpwOnb+9mwcFZ/CSO",
      "include_colab_link": true
    },
    "kernelspec": {
      "name": "python3",
      "display_name": "Python 3"
    },
    "language_info": {
      "name": "python"
    }
  },
  "cells": [
    {
      "cell_type": "markdown",
      "metadata": {
        "id": "view-in-github",
        "colab_type": "text"
      },
      "source": [
        "<a href=\"https://colab.research.google.com/github/vdadithya2002/Python-Learnings/blob/main/PythonDay5.ipynb\" target=\"_parent\"><img src=\"https://colab.research.google.com/assets/colab-badge.svg\" alt=\"Open In Colab\"/></a>"
      ]
    },
    {
      "cell_type": "markdown",
      "source": [
        "#Strings"
      ],
      "metadata": {
        "id": "wQzn9rM_LT1s"
      }
    },
    {
      "cell_type": "code",
      "source": [
        "a = \"Srh\"\n",
        "\n",
        "print(a[1])\n"
      ],
      "metadata": {
        "colab": {
          "base_uri": "https://localhost:8080/"
        },
        "id": "f6RywA_iLsub",
        "outputId": "ea5397d6-1f38-44a9-b171-c8f86d3c209f"
      },
      "execution_count": 1,
      "outputs": [
        {
          "output_type": "stream",
          "name": "stdout",
          "text": [
            "r\n"
          ]
        }
      ]
    },
    {
      "cell_type": "code",
      "source": [
        "a1 = a + a[1]\n",
        "print(a1)\n",
        "\n",
        "\n",
        "a2 = a + a[1] + a1\n",
        "print(a2)"
      ],
      "metadata": {
        "colab": {
          "base_uri": "https://localhost:8080/"
        },
        "id": "397hnh-XL236",
        "outputId": "cff5c178-3c44-49f6-ab69-fb0e292e0937"
      },
      "execution_count": 6,
      "outputs": [
        {
          "output_type": "stream",
          "name": "stdout",
          "text": [
            "Srhr\n",
            "SrhrSrhr\n"
          ]
        }
      ]
    },
    {
      "cell_type": "markdown",
      "source": [
        "creating a string"
      ],
      "metadata": {
        "id": "kucoCj0sMHrz"
      }
    },
    {
      "cell_type": "code",
      "source": [
        "s = 'rcb'\n",
        "d = \"srh\"\n",
        "\n",
        "print(s)\n",
        "print(d)"
      ],
      "metadata": {
        "colab": {
          "base_uri": "https://localhost:8080/"
        },
        "id": "vSF0Kcf-L8UD",
        "outputId": "08f9588b-0688-4f93-e5fa-13618cdf781e"
      },
      "execution_count": 7,
      "outputs": [
        {
          "output_type": "stream",
          "name": "stdout",
          "text": [
            "rcb\n",
            "srh\n"
          ]
        }
      ]
    },
    {
      "cell_type": "markdown",
      "source": [
        "Mutli-line strings"
      ],
      "metadata": {
        "id": "afl9tTqHMUMd"
      }
    },
    {
      "cell_type": "code",
      "source": [
        "s = \"\"\"today match was\n",
        "between srh vs kkr\"\"\"\n",
        "\n",
        "print(s)"
      ],
      "metadata": {
        "colab": {
          "base_uri": "https://localhost:8080/"
        },
        "id": "ief0BqetMPZS",
        "outputId": "6a2343ed-0335-4047-dc30-3662dc4d5723"
      },
      "execution_count": 11,
      "outputs": [
        {
          "output_type": "stream",
          "name": "stdout",
          "text": [
            "today match was \n",
            "between srh vs kkr\n"
          ]
        }
      ]
    },
    {
      "cell_type": "markdown",
      "source": [
        "Accessing characters in python string"
      ],
      "metadata": {
        "id": "YzBX3VEgMrwS"
      }
    },
    {
      "cell_type": "code",
      "source": [
        "b = \"sunrisersHyderabad\"\n",
        "\n",
        "print(b[2])\n",
        "print(b[-1])\n",
        "print(b[2:8])\n",
        "print(b[4:-4])"
      ],
      "metadata": {
        "colab": {
          "base_uri": "https://localhost:8080/"
        },
        "id": "yvSl-HpfMW0h",
        "outputId": "355ebf8c-2e6d-4700-b87d-7705013964b2"
      },
      "execution_count": 19,
      "outputs": [
        {
          "output_type": "stream",
          "name": "stdout",
          "text": [
            "n\n",
            "d\n",
            "nriser\n",
            "isersHyder\n"
          ]
        }
      ]
    },
    {
      "cell_type": "markdown",
      "source": [
        "String Immutabilty"
      ],
      "metadata": {
        "id": "DR13Uv3uNPBt"
      }
    },
    {
      "cell_type": "code",
      "source": [
        "g = \"kateermakoduku\"\n",
        "\n",
        "\n",
        "f = \"K\" + g[1:]\n",
        "print(f)\n",
        "\n"
      ],
      "metadata": {
        "colab": {
          "base_uri": "https://localhost:8080/"
        },
        "id": "ByQVfmJVM4Xc",
        "outputId": "e1d62a20-3c46-40e6-b9a1-47d78f2ea3ee"
      },
      "execution_count": 36,
      "outputs": [
        {
          "output_type": "stream",
          "name": "stdout",
          "text": [
            "Kateermakoduku\n"
          ]
        }
      ]
    },
    {
      "cell_type": "code",
      "source": [
        "del f"
      ],
      "metadata": {
        "id": "4jbyRV26NpVS"
      },
      "execution_count": 37,
      "outputs": []
    },
    {
      "cell_type": "markdown",
      "source": [
        "to find length of the string"
      ],
      "metadata": {
        "id": "vGADMRzlON0I"
      }
    },
    {
      "cell_type": "code",
      "source": [
        "h = \"Royal Chanllenges Banglorre\"\n",
        "\n",
        "print(len(h))"
      ],
      "metadata": {
        "colab": {
          "base_uri": "https://localhost:8080/"
        },
        "id": "Zy3dDRs_N3Xo",
        "outputId": "8c6cbd9f-e534-4bf8-eedd-2c7e9424b0fd"
      },
      "execution_count": 41,
      "outputs": [
        {
          "output_type": "stream",
          "name": "stdout",
          "text": [
            "27\n"
          ]
        }
      ]
    },
    {
      "cell_type": "code",
      "source": [
        "print(h.upper())"
      ],
      "metadata": {
        "colab": {
          "base_uri": "https://localhost:8080/"
        },
        "id": "pckSSdVGOY0c",
        "outputId": "ebae550a-5054-427f-c49d-10aa08baa0fd"
      },
      "execution_count": 42,
      "outputs": [
        {
          "output_type": "stream",
          "name": "stdout",
          "text": [
            "ROYAL CHANLLENGES BANGLORRE\n"
          ]
        }
      ]
    },
    {
      "cell_type": "code",
      "source": [
        "print(h.lower())"
      ],
      "metadata": {
        "colab": {
          "base_uri": "https://localhost:8080/"
        },
        "id": "igt6_b30Obwj",
        "outputId": "fc40a3d9-068b-4463-f4ca-93cbb04d48ad"
      },
      "execution_count": 43,
      "outputs": [
        {
          "output_type": "stream",
          "name": "stdout",
          "text": [
            "royal chanllenges banglorre\n"
          ]
        }
      ]
    },
    {
      "cell_type": "code",
      "source": [
        "print(h.replace(\"Banglorre\",\"Bangalore\"))"
      ],
      "metadata": {
        "colab": {
          "base_uri": "https://localhost:8080/"
        },
        "id": "2-GLEzOVOdT2",
        "outputId": "0816d31d-6432-464f-bcaa-9500f555669c"
      },
      "execution_count": 45,
      "outputs": [
        {
          "output_type": "stream",
          "name": "stdout",
          "text": [
            "Royal Chanllenges Bangalore\n"
          ]
        }
      ]
    },
    {
      "cell_type": "code",
      "source": [
        "i = h + \" \" + d\n",
        "print(i)"
      ],
      "metadata": {
        "colab": {
          "base_uri": "https://localhost:8080/"
        },
        "id": "HIah7iwIOvhn",
        "outputId": "4bbcec01-8aad-4936-9747-dc7c9b4744e3"
      },
      "execution_count": 47,
      "outputs": [
        {
          "output_type": "stream",
          "name": "stdout",
          "text": [
            "Royal Chanllenges Banglorre srh\n"
          ]
        }
      ]
    },
    {
      "cell_type": "markdown",
      "source": [
        "Formatting Strings\n",
        "\n"
      ],
      "metadata": {
        "id": "_2y7E5f2QKvK"
      }
    },
    {
      "cell_type": "code",
      "source": [
        "match_winner = \"sunrisers hyderabad\"\n",
        "margin = \"110 runs\"\n",
        "loser = \"koklata knight risers\"\n",
        "\n",
        "print(f\"{match_winner} won by {margin} against {loser}\")"
      ],
      "metadata": {
        "colab": {
          "base_uri": "https://localhost:8080/"
        },
        "id": "aW5i6KWFQN7O",
        "outputId": "2681a866-8cd6-45ab-c1ec-845ebdedef44"
      },
      "execution_count": 49,
      "outputs": [
        {
          "output_type": "stream",
          "name": "stdout",
          "text": [
            "sunrisers hyderabad won by 110 runs against koklata knight risers\n"
          ]
        }
      ]
    },
    {
      "cell_type": "markdown",
      "source": [
        "using format( )"
      ],
      "metadata": {
        "id": "Wq7tdUtsnjHi"
      }
    },
    {
      "cell_type": "code",
      "source": [
        "g = \"{} won by {} against {}.\".format(\"sunrisershyderabd\", \"110 runs\", \"kolkaltaknightrisers\")\n",
        "print(g)"
      ],
      "metadata": {
        "colab": {
          "base_uri": "https://localhost:8080/"
        },
        "id": "dwnxgjLVnatg",
        "outputId": "ea4be527-4e9c-4295-fc27-f554ba3fd325"
      },
      "execution_count": 52,
      "outputs": [
        {
          "output_type": "stream",
          "name": "stdout",
          "text": [
            "sunrisershyderabd won by 110 runs against kolkaltaknightrisers.\n"
          ]
        }
      ]
    },
    {
      "cell_type": "markdown",
      "source": [
        "using in for string memebership testing"
      ],
      "metadata": {
        "id": "G-MZFhiooNIY"
      }
    },
    {
      "cell_type": "code",
      "source": [
        "print(\"sunrisers\" in match_winner)"
      ],
      "metadata": {
        "colab": {
          "base_uri": "https://localhost:8080/"
        },
        "id": "ebRpWF5ooQ1l",
        "outputId": "d132ac5c-f8f6-4d1c-f07b-4b03d898693f"
      },
      "execution_count": 54,
      "outputs": [
        {
          "output_type": "stream",
          "name": "stdout",
          "text": [
            "True\n"
          ]
        }
      ]
    },
    {
      "cell_type": "markdown",
      "source": [
        "looping through strings"
      ],
      "metadata": {
        "id": "K44UC3K8oqcS"
      }
    },
    {
      "cell_type": "code",
      "source": [
        "for char in \"sunrisershyderabad\":\n",
        "  print(char)"
      ],
      "metadata": {
        "colab": {
          "base_uri": "https://localhost:8080/"
        },
        "id": "5_mZ_vCGor98",
        "outputId": "f13cf796-41b1-4ade-beff-56a32354adf1"
      },
      "execution_count": 57,
      "outputs": [
        {
          "output_type": "stream",
          "name": "stdout",
          "text": [
            "s\n",
            "u\n",
            "n\n",
            "r\n",
            "i\n",
            "s\n",
            "e\n",
            "r\n",
            "s\n",
            "h\n",
            "y\n",
            "d\n",
            "e\n",
            "r\n",
            "a\n",
            "b\n",
            "a\n",
            "d\n"
          ]
        }
      ]
    },
    {
      "cell_type": "markdown",
      "source": [
        "reserve a string"
      ],
      "metadata": {
        "id": "iyhM2XaTpQcW"
      }
    },
    {
      "cell_type": "code",
      "source": [
        "word1 = 'my name is vijaya durga adithya'\n",
        "reversed_word = word1[::-1]\n",
        "print(reversed_word)"
      ],
      "metadata": {
        "colab": {
          "base_uri": "https://localhost:8080/"
        },
        "id": "HcKG-L73pPni",
        "outputId": "08dede00-c889-438e-c2b1-e863ec849a77"
      },
      "execution_count": 64,
      "outputs": [
        {
          "output_type": "stream",
          "name": "stdout",
          "text": [
            "ayhtida agrud ayajiv si eman ym\n"
          ]
        }
      ]
    },
    {
      "cell_type": "markdown",
      "source": [
        "count the vowels in a string"
      ],
      "metadata": {
        "id": "AZ7-Z9dDprNk"
      }
    },
    {
      "cell_type": "code",
      "source": [
        "vowels = \"aeiouAEIOU\"\n",
        "count = 0\n",
        "\n",
        "for char in word1:\n",
        "  if char in vowels:\n",
        "    count += 1\n",
        "\n",
        "print(count)"
      ],
      "metadata": {
        "colab": {
          "base_uri": "https://localhost:8080/"
        },
        "id": "sSUnHCdVptQ5",
        "outputId": "1f31e674-88a3-4b3c-f609-3c7d9dc0f216"
      },
      "execution_count": 65,
      "outputs": [
        {
          "output_type": "stream",
          "name": "stdout",
          "text": [
            "11\n"
          ]
        }
      ]
    },
    {
      "cell_type": "code",
      "source": [
        "word = input(\"Enter a word: \")\n",
        "print(f\"we go the input word as {word}\")\n",
        "\n",
        "if word == word[::-1]:\n",
        "  print(\"word is Palindrome\")\n",
        "else:\n",
        "  print(\"word is Not a palindrome\")"
      ],
      "metadata": {
        "colab": {
          "base_uri": "https://localhost:8080/"
        },
        "id": "L_8JOSCop8ak",
        "outputId": "2444ce32-b264-4395-8495-d601f01956a8"
      },
      "execution_count": 63,
      "outputs": [
        {
          "output_type": "stream",
          "name": "stdout",
          "text": [
            "Enter a word: madam\n",
            "we go the input word as madam\n",
            "word is Palindrome\n"
          ]
        }
      ]
    },
    {
      "cell_type": "markdown",
      "source": [
        "capitalize firsr letter of every word"
      ],
      "metadata": {
        "id": "ro79oIcNq9WB"
      }
    },
    {
      "cell_type": "code",
      "source": [
        "captialized = word1.title()\n",
        "print(captialized)\n"
      ],
      "metadata": {
        "colab": {
          "base_uri": "https://localhost:8080/"
        },
        "id": "DNDjkiFZqi0n",
        "outputId": "9ce59125-ec56-4e68-cc3a-5e7ece1d00cc"
      },
      "execution_count": 69,
      "outputs": [
        {
          "output_type": "stream",
          "name": "stdout",
          "text": [
            "My Name Is Vijaya Durga Adithya\n"
          ]
        }
      ]
    },
    {
      "cell_type": "markdown",
      "source": [
        "replace spaces with hyphens"
      ],
      "metadata": {
        "id": "FvKgwIVJrbGZ"
      }
    },
    {
      "cell_type": "code",
      "source": [
        "new_text = word1.replace(\" \", \" \")\n",
        "print(new_text)"
      ],
      "metadata": {
        "colab": {
          "base_uri": "https://localhost:8080/"
        },
        "id": "tRSpxAfrrdd8",
        "outputId": "c1447d6b-6b01-4134-dea5-b6490c1f71be"
      },
      "execution_count": 71,
      "outputs": [
        {
          "output_type": "stream",
          "name": "stdout",
          "text": [
            "my name is vijaya durga adithya\n"
          ]
        }
      ]
    }
  ]
}