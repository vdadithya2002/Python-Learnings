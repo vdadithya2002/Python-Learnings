{
  "nbformat": 4,
  "nbformat_minor": 0,
  "metadata": {
    "colab": {
      "provenance": [],
      "authorship_tag": "ABX9TyNhm0zfPPOOISIk+jHq+HFT",
      "include_colab_link": true
    },
    "kernelspec": {
      "name": "python3",
      "display_name": "Python 3"
    },
    "language_info": {
      "name": "python"
    }
  },
  "cells": [
    {
      "cell_type": "markdown",
      "metadata": {
        "id": "view-in-github",
        "colab_type": "text"
      },
      "source": [
        "<a href=\"https://colab.research.google.com/github/vdadithya2002/Python-Learnings/blob/main/PythonDay3.ipynb\" target=\"_parent\"><img src=\"https://colab.research.google.com/assets/colab-badge.svg\" alt=\"Open In Colab\"/></a>"
      ]
    },
    {
      "cell_type": "markdown",
      "source": [
        "#While Loops"
      ],
      "metadata": {
        "id": "iC-B8IeFtXTT"
      }
    },
    {
      "cell_type": "code",
      "source": [
        "number = 0\n",
        "\n",
        "while (number <= 6):\n",
        "  number = number + 1\n",
        "  print('Today is 16th may 2025')"
      ],
      "metadata": {
        "colab": {
          "base_uri": "https://localhost:8080/"
        },
        "id": "FwMiWOqwtaSs",
        "outputId": "011c5c02-ba91-4806-9ecc-0afb7c58b176"
      },
      "execution_count": null,
      "outputs": [
        {
          "output_type": "stream",
          "name": "stdout",
          "text": [
            "Today is 16th may 2025\n",
            "Today is 16th may 2025\n",
            "Today is 16th may 2025\n",
            "Today is 16th may 2025\n",
            "Today is 16th may 2025\n",
            "Today is 16th may 2025\n",
            "Today is 16th may 2025\n"
          ]
        }
      ]
    },
    {
      "cell_type": "markdown",
      "source": [
        "Using else statement with While Loop in Python\n",
        "Else clause is only executed when our while condition becomes false. If we break out of the loop or if an exception is raised then it won't be executed."
      ],
      "metadata": {
        "id": "nAV1oURtt3Px"
      }
    },
    {
      "cell_type": "code",
      "source": [
        "number = 0\n",
        "\n",
        "while (number < 4):\n",
        "  number = number + 1\n",
        "  print('Today is 16th may 2025')\n",
        "else:\n",
        "  print('Today is not 16th may 2025')\n"
      ],
      "metadata": {
        "colab": {
          "base_uri": "https://localhost:8080/"
        },
        "id": "A1ckxTdYtmgT",
        "outputId": "38a0d8de-4b0a-4302-c649-9ec65a2694a6"
      },
      "execution_count": null,
      "outputs": [
        {
          "output_type": "stream",
          "name": "stdout",
          "text": [
            "Today is 16th may 2025\n",
            "Today is 16th may 2025\n",
            "Today is 16th may 2025\n",
            "Today is 16th may 2025\n",
            "Today is not 16th may 2025\n"
          ]
        }
      ]
    },
    {
      "cell_type": "markdown",
      "source": [
        "#For Loop In Python"
      ],
      "metadata": {
        "id": "z9TFL_-LudzF"
      }
    },
    {
      "cell_type": "code",
      "source": [
        "a = 4\n",
        "for i in range(0, a):\n",
        "  print(i)"
      ],
      "metadata": {
        "colab": {
          "base_uri": "https://localhost:8080/"
        },
        "id": "mpqcGayRt8gO",
        "outputId": "f70d4bd0-4927-467c-8c08-d74a92576add"
      },
      "execution_count": null,
      "outputs": [
        {
          "output_type": "stream",
          "name": "stdout",
          "text": [
            "0\n",
            "1\n",
            "2\n",
            "3\n"
          ]
        }
      ]
    },
    {
      "cell_type": "markdown",
      "source": [
        "#Iterating by the index of Sequences"
      ],
      "metadata": {
        "id": "ljfb0JzDuzPK"
      }
    },
    {
      "cell_type": "code",
      "source": [
        "list = [\"1st\", \"2nd\", \"3rd\"]\n",
        "print(len(list))\n",
        "for a in range(len(list)):\n",
        "  print(a)"
      ],
      "metadata": {
        "colab": {
          "base_uri": "https://localhost:8080/"
        },
        "id": "6dMycAM5uoNY",
        "outputId": "84c464f0-7657-424b-c674-a951576cfd6b"
      },
      "execution_count": null,
      "outputs": [
        {
          "output_type": "stream",
          "name": "stdout",
          "text": [
            "3\n",
            "0\n",
            "1\n",
            "2\n"
          ]
        }
      ]
    },
    {
      "cell_type": "markdown",
      "source": [
        "Using else statement with for loop in python"
      ],
      "metadata": {
        "id": "AIsKt91UviBC"
      }
    },
    {
      "cell_type": "code",
      "source": [
        "list = [\"1st\", \"2nd\", '3rd']\n",
        "for index in range(len(list)):\n",
        "  print(list[index])\n",
        "else:\n",
        "  print(\"Inside Else block\")"
      ],
      "metadata": {
        "colab": {
          "base_uri": "https://localhost:8080/"
        },
        "id": "d-Z6z8QZvScK",
        "outputId": "4035046e-0cc2-4a26-ece5-47bfe083188b"
      },
      "execution_count": null,
      "outputs": [
        {
          "output_type": "stream",
          "name": "stdout",
          "text": [
            "1st\n",
            "2nd\n",
            "3rd\n",
            "Inside Else block\n"
          ]
        }
      ]
    },
    {
      "cell_type": "markdown",
      "source": [
        "#Nested Loops in Python"
      ],
      "metadata": {
        "id": "k0_xB25LxMOX"
      }
    },
    {
      "cell_type": "code",
      "source": [
        "from __future__ import print_function\n",
        "for i in range(1,9):\n",
        "  for j in range(i):\n",
        "    print(i, end=' ')\n",
        "  print()"
      ],
      "metadata": {
        "colab": {
          "base_uri": "https://localhost:8080/"
        },
        "id": "eiQJTdu7wQ17",
        "outputId": "6ab2e197-7ac6-48ab-e671-d3a9161ae029"
      },
      "execution_count": null,
      "outputs": [
        {
          "output_type": "stream",
          "name": "stdout",
          "text": [
            "1 \n",
            "2 2 \n",
            "3 3 3 \n",
            "4 4 4 4 \n",
            "5 5 5 5 5 \n",
            "6 6 6 6 6 6 \n",
            "7 7 7 7 7 7 7 \n",
            "8 8 8 8 8 8 8 8 \n"
          ]
        }
      ]
    },
    {
      "cell_type": "markdown",
      "source": [
        "continue statement in loops"
      ],
      "metadata": {
        "id": "HbcjeSUu1Ra-"
      }
    },
    {
      "cell_type": "code",
      "source": [
        "for word in 'MynameisAdithya':\n",
        "  if word == 'm' or word == 'a':\n",
        "    continue\n",
        "  print('Current Letter: ', word)"
      ],
      "metadata": {
        "colab": {
          "base_uri": "https://localhost:8080/"
        },
        "id": "D5eON7S7x8T1",
        "outputId": "3a98fc78-5213-4d12-ae33-5d8cc5762bee"
      },
      "execution_count": null,
      "outputs": [
        {
          "output_type": "stream",
          "name": "stdout",
          "text": [
            "Current Letter:  M\n",
            "Current Letter:  y\n",
            "Current Letter:  n\n",
            "Current Letter:  e\n",
            "Current Letter:  i\n",
            "Current Letter:  s\n",
            "Current Letter:  A\n",
            "Current Letter:  d\n",
            "Current Letter:  i\n",
            "Current Letter:  t\n",
            "Current Letter:  h\n",
            "Current Letter:  y\n"
          ]
        }
      ]
    },
    {
      "cell_type": "code",
      "source": [
        "for word in 'MynameisAdithya':\n",
        "  if word == 'm' or word == 'a':\n",
        "    break\n",
        "  print('Current Letter: ', word)"
      ],
      "metadata": {
        "colab": {
          "base_uri": "https://localhost:8080/"
        },
        "id": "tOHInWaN1v_Q",
        "outputId": "6f3e03c2-9fd0-46d7-92de-73f098bb5b5e"
      },
      "execution_count": null,
      "outputs": [
        {
          "output_type": "stream",
          "name": "stdout",
          "text": [
            "Current Letter:  M\n",
            "Current Letter:  y\n",
            "Current Letter:  n\n"
          ]
        }
      ]
    },
    {
      "cell_type": "code",
      "source": [
        "for word in 'MynameisAdithya':\n",
        "    pass\n",
        "print('Current Letter: ', word)"
      ],
      "metadata": {
        "colab": {
          "base_uri": "https://localhost:8080/"
        },
        "id": "A7rPUiPs2qgo",
        "outputId": "41d7b693-89bd-4ded-e617-7149ceb92e10"
      },
      "execution_count": null,
      "outputs": [
        {
          "output_type": "stream",
          "name": "stdout",
          "text": [
            "Current Letter:  a\n"
          ]
        }
      ]
    },
    {
      "cell_type": "code",
      "source": [
        "n = [1, 2]\n",
        "li = ['car', 'bike']\n",
        "\n",
        "for x in n:\n",
        "  for y in li:\n",
        "    print(x, y)"
      ],
      "metadata": {
        "colab": {
          "base_uri": "https://localhost:8080/"
        },
        "id": "6Lcs473i2xFu",
        "outputId": "59665914-7897-4ed8-d8cf-d5b0293cc979"
      },
      "execution_count": null,
      "outputs": [
        {
          "output_type": "stream",
          "name": "stdout",
          "text": [
            "1 car\n",
            "1 bike\n",
            "2 car\n",
            "2 bike\n"
          ]
        }
      ]
    },
    {
      "cell_type": "code",
      "source": [
        "var = 10\n",
        "for i in range(10):\n",
        "  for j in range(2,10,1):\n",
        "    if var%2==0:\n",
        "      continue\n",
        "      var+=1\n",
        "      var+=1\n",
        "    else:\n",
        "      var+=1\n",
        "print(var)"
      ],
      "metadata": {
        "colab": {
          "base_uri": "https://localhost:8080/"
        },
        "id": "UQ2o1Hqk35ma",
        "outputId": "7024e2e5-dab4-43af-e082-fac46ebab5d2"
      },
      "execution_count": null,
      "outputs": [
        {
          "output_type": "stream",
          "name": "stdout",
          "text": [
            "10\n"
          ]
        }
      ]
    },
    {
      "cell_type": "markdown",
      "source": [
        "#Pattern1 Right Triangle"
      ],
      "metadata": {
        "id": "U9E78DJSjyn5"
      }
    },
    {
      "cell_type": "code",
      "source": [
        "for i in range(1, 6):\n",
        "  print(\"1\" * i)"
      ],
      "metadata": {
        "colab": {
          "base_uri": "https://localhost:8080/"
        },
        "id": "WxvgYARt4Ru1",
        "outputId": "4a10d7e3-f7b8-4fb7-9c4e-6bb5944baa51"
      },
      "execution_count": null,
      "outputs": [
        {
          "output_type": "stream",
          "name": "stdout",
          "text": [
            "1\n",
            "11\n",
            "111\n",
            "1111\n",
            "11111\n"
          ]
        }
      ]
    },
    {
      "cell_type": "markdown",
      "source": [
        "#Pattern2 Number Traiangle"
      ],
      "metadata": {
        "id": "P9J4Sq_ukE_L"
      }
    },
    {
      "cell_type": "code",
      "source": [
        "for i in range(1, 5):\n",
        "  for j in range(1, i+1):\n",
        "    print(j, end=\"\")\n",
        "  print()"
      ],
      "metadata": {
        "colab": {
          "base_uri": "https://localhost:8080/"
        },
        "id": "7R6zAdkHj9k0",
        "outputId": "04003c11-2845-40cb-9667-cf3e2dd5bd6b"
      },
      "execution_count": null,
      "outputs": [
        {
          "output_type": "stream",
          "name": "stdout",
          "text": [
            "1\n",
            "12\n",
            "123\n",
            "1234\n"
          ]
        }
      ]
    },
    {
      "cell_type": "markdown",
      "source": [
        "#Pattern 3 Invertedd Right Triangle"
      ],
      "metadata": {
        "id": "SJNhUC8xO1MR"
      }
    },
    {
      "cell_type": "code",
      "source": [
        "for i in range(4, 0 , -1):\n",
        "  print(\"*\" * i)"
      ],
      "metadata": {
        "id": "RCQeGx-HkVkL",
        "colab": {
          "base_uri": "https://localhost:8080/"
        },
        "outputId": "88238439-06f3-427b-c677-bc0cbaf0cdee"
      },
      "execution_count": null,
      "outputs": [
        {
          "output_type": "stream",
          "name": "stdout",
          "text": [
            "****\n",
            "***\n",
            "**\n",
            "*\n"
          ]
        }
      ]
    },
    {
      "cell_type": "markdown",
      "source": [
        "#Pattern 4 Square of Stars"
      ],
      "metadata": {
        "id": "SYKiQFy3PRym"
      }
    },
    {
      "cell_type": "code",
      "source": [
        "for i in range(4):\n",
        "  for j in range(4):\n",
        "    print(\"a\", end=\"\")\n",
        "  print()"
      ],
      "metadata": {
        "colab": {
          "base_uri": "https://localhost:8080/"
        },
        "id": "1Ub_UioFPAjj",
        "outputId": "c12a0ac4-56a5-4c34-edef-cec74e846923"
      },
      "execution_count": null,
      "outputs": [
        {
          "output_type": "stream",
          "name": "stdout",
          "text": [
            "aaaa\n",
            "aaaa\n",
            "aaaa\n",
            "aaaa\n"
          ]
        }
      ]
    },
    {
      "cell_type": "markdown",
      "source": [
        "#Pattern 5 Center-Aligned Pyramid"
      ],
      "metadata": {
        "id": "stmarIrEPmIz"
      }
    },
    {
      "cell_type": "code",
      "source": [
        "n = 4\n",
        "for i in range(n):\n",
        "  print(\" \" * (n - i - 1) + \"*\" * (2 * i + 1))"
      ],
      "metadata": {
        "colab": {
          "base_uri": "https://localhost:8080/"
        },
        "id": "YCG4eRwNPeWU",
        "outputId": "4e8e45cc-bd0a-4ce4-e749-fb63d5f71133"
      },
      "execution_count": null,
      "outputs": [
        {
          "output_type": "stream",
          "name": "stdout",
          "text": [
            "   *\n",
            "  ***\n",
            " *****\n",
            "*******\n"
          ]
        }
      ]
    },
    {
      "cell_type": "code",
      "source": [],
      "metadata": {
        "id": "wtGbjOfmQ9Fj"
      },
      "execution_count": null,
      "outputs": []
    }
  ]
}