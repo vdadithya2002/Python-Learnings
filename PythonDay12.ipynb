{
  "nbformat": 4,
  "nbformat_minor": 0,
  "metadata": {
    "colab": {
      "provenance": [],
      "authorship_tag": "ABX9TyP/+lbGvvnce0mKnqEj952X",
      "include_colab_link": true
    },
    "kernelspec": {
      "name": "python3",
      "display_name": "Python 3"
    },
    "language_info": {
      "name": "python"
    }
  },
  "cells": [
    {
      "cell_type": "markdown",
      "metadata": {
        "id": "view-in-github",
        "colab_type": "text"
      },
      "source": [
        "<a href=\"https://colab.research.google.com/github/vdadithya2002/Python-Learnings/blob/main/PythonDay12.ipynb\" target=\"_parent\"><img src=\"https://colab.research.google.com/assets/colab-badge.svg\" alt=\"Open In Colab\"/></a>"
      ]
    },
    {
      "cell_type": "markdown",
      "source": [
        "#Lambda Fucntion"
      ],
      "metadata": {
        "id": "chnrrfJx1C_u"
      }
    },
    {
      "cell_type": "markdown",
      "source": [
        "syntax:\n",
        "\n",
        "  lambda arguments: expression"
      ],
      "metadata": {
        "id": "pfHp_3qY1Kut"
      }
    },
    {
      "cell_type": "code",
      "execution_count": 4,
      "metadata": {
        "id": "JS2i1akApz8J",
        "colab": {
          "base_uri": "https://localhost:8080/"
        },
        "outputId": "c2a1a5bb-46bd-49ed-ee60-b11b0e034b4a"
      },
      "outputs": [
        {
          "output_type": "stream",
          "name": "stdout",
          "text": [
            "Enter the number: 4\n",
            "16\n"
          ]
        }
      ],
      "source": [
        "x = int(input(\"Enter the number: \"))\n",
        "\n",
        "def square(x):\n",
        "  return x * x\n",
        "\n",
        "print(square(x))"
      ]
    },
    {
      "cell_type": "code",
      "source": [
        "square = lambda x: x * x\n",
        "print(square(x))"
      ],
      "metadata": {
        "colab": {
          "base_uri": "https://localhost:8080/"
        },
        "id": "ihiLopxo1URZ",
        "outputId": "0af90bc0-9968-48ba-f9d8-c2c206e461e9"
      },
      "execution_count": 7,
      "outputs": [
        {
          "output_type": "stream",
          "name": "stdout",
          "text": [
            "16\n"
          ]
        }
      ]
    },
    {
      "cell_type": "markdown",
      "source": [
        "#map( )"
      ],
      "metadata": {
        "id": "rcWBaDIW1yHc"
      }
    },
    {
      "cell_type": "markdown",
      "source": [
        "map(function, iterable)"
      ],
      "metadata": {
        "id": "ERaI_laq115G"
      }
    },
    {
      "cell_type": "code",
      "source": [
        "nums = [1,2,3,4]\n",
        "squares = list(map(lambda x: x * x, nums))\n",
        "\n",
        "print(squares)"
      ],
      "metadata": {
        "colab": {
          "base_uri": "https://localhost:8080/"
        },
        "id": "bHEp5PJj1odi",
        "outputId": "1d4f3f12-0177-4222-f50c-32356fc4d681"
      },
      "execution_count": 9,
      "outputs": [
        {
          "output_type": "stream",
          "name": "stdout",
          "text": [
            "[1, 4, 9, 16]\n"
          ]
        }
      ]
    },
    {
      "cell_type": "markdown",
      "source": [
        "#filter ( )"
      ],
      "metadata": {
        "id": "_atwlgNu2INe"
      }
    },
    {
      "cell_type": "markdown",
      "source": [
        "filter(function, iterable)"
      ],
      "metadata": {
        "id": "C2GeL12W2MqP"
      }
    },
    {
      "cell_type": "code",
      "source": [
        "nums = [1,2,4,12, 9 , 5,6]\n",
        "\n",
        "nums1 = list(sorted(nums))\n",
        "print(f\"after sorted: {nums1}\")\n",
        "\n",
        "evens = list(filter(lambda x: x % 2 == 0, nums1))\n",
        "\n",
        "print(evens)"
      ],
      "metadata": {
        "colab": {
          "base_uri": "https://localhost:8080/"
        },
        "id": "pdsF0hHf16cN",
        "outputId": "e80a53cf-3e47-4b71-e870-e212b31ed1f1"
      },
      "execution_count": 12,
      "outputs": [
        {
          "output_type": "stream",
          "name": "stdout",
          "text": [
            "after sorted: [1, 2, 4, 5, 6, 9, 12]\n",
            "[2, 4, 6, 12]\n"
          ]
        }
      ]
    },
    {
      "cell_type": "markdown",
      "source": [
        "#reduce ( )"
      ],
      "metadata": {
        "id": "n1tU3vvqL2Y7"
      }
    },
    {
      "cell_type": "markdown",
      "source": [
        "reduce(function , iterable)"
      ],
      "metadata": {
        "id": "34E7IhmXL51-"
      }
    },
    {
      "cell_type": "code",
      "source": [
        "from functools import reduce\n",
        "\n",
        "nums = [1,2,3,4]\n",
        "\n",
        "product = reduce(lambda x,y: x+y, nums)\n",
        "\n",
        "print(product)"
      ],
      "metadata": {
        "colab": {
          "base_uri": "https://localhost:8080/"
        },
        "id": "NYt8tnvK2dG_",
        "outputId": "6398f9dd-9666-4b6d-bcae-01b8efea676d"
      },
      "execution_count": 18,
      "outputs": [
        {
          "output_type": "stream",
          "name": "stdout",
          "text": [
            "10\n"
          ]
        }
      ]
    },
    {
      "cell_type": "markdown",
      "source": [
        "#List Comprehension"
      ],
      "metadata": {
        "id": "BdhgtLs-MS_b"
      }
    },
    {
      "cell_type": "markdown",
      "source": [
        "[expression for item in iterable]"
      ],
      "metadata": {
        "id": "IGXhVwGKMXeH"
      }
    },
    {
      "cell_type": "code",
      "source": [
        "squares = [x*x for x in range(1,20, 2)]\n",
        "\n",
        "print(squares)"
      ],
      "metadata": {
        "colab": {
          "base_uri": "https://localhost:8080/"
        },
        "id": "v1V8mBShMA9S",
        "outputId": "1863e986-01d9-4b72-a44e-a30a37121007"
      },
      "execution_count": 20,
      "outputs": [
        {
          "output_type": "stream",
          "name": "stdout",
          "text": [
            "[1, 9, 25, 49, 81, 121, 169, 225, 289, 361]\n"
          ]
        }
      ]
    },
    {
      "cell_type": "markdown",
      "source": [
        "with condition"
      ],
      "metadata": {
        "id": "rZzBMsa2M9E8"
      }
    },
    {
      "cell_type": "code",
      "source": [
        "evens = [x for x in range(1,100, 3) if x % 2 == 0]\n",
        "\n",
        "print(evens)"
      ],
      "metadata": {
        "colab": {
          "base_uri": "https://localhost:8080/"
        },
        "id": "-NkH_-z6Mw0v",
        "outputId": "2ce15c11-e709-4dc3-b9ab-485e810ebd72"
      },
      "execution_count": 27,
      "outputs": [
        {
          "output_type": "stream",
          "name": "stdout",
          "text": [
            "[4, 10, 16, 22, 28, 34, 40, 46, 52, 58, 64, 70, 76, 82, 88, 94]\n"
          ]
        }
      ]
    },
    {
      "cell_type": "markdown",
      "source": [
        "#Pratice Tasks"
      ],
      "metadata": {
        "id": "aOwyICgsNSa4"
      }
    },
    {
      "cell_type": "code",
      "source": [
        "\n",
        "double = lambda x: x *2\n",
        "print(double(10))"
      ],
      "metadata": {
        "colab": {
          "base_uri": "https://localhost:8080/"
        },
        "id": "o3Zu_cFlNFSr",
        "outputId": "bc5fdc8a-689b-4c80-e801-01a86d4a6de1"
      },
      "execution_count": 34,
      "outputs": [
        {
          "output_type": "stream",
          "name": "stdout",
          "text": [
            "20\n"
          ]
        }
      ]
    },
    {
      "cell_type": "code",
      "source": [
        "nums = [1,2,3,4,5]\n",
        "\n",
        "cubed = list(map(lambda x:x ** 3, nums))\n",
        "\n",
        "print(cubed)"
      ],
      "metadata": {
        "colab": {
          "base_uri": "https://localhost:8080/"
        },
        "id": "En8H1mnqNcol",
        "outputId": "517de1b8-67d2-44aa-fad8-10f24f97359c"
      },
      "execution_count": 35,
      "outputs": [
        {
          "output_type": "stream",
          "name": "stdout",
          "text": [
            "[1, 8, 27, 64, 125]\n"
          ]
        }
      ]
    },
    {
      "cell_type": "code",
      "source": [
        "nums = [1,10,15,6,7]\n",
        "\n",
        "filtered = list(filter(lambda x: x <= 7, nums))\n",
        "\n",
        "print(filtered)"
      ],
      "metadata": {
        "colab": {
          "base_uri": "https://localhost:8080/"
        },
        "id": "gb1mWv2aNwFI",
        "outputId": "cf326717-a089-484f-a92a-7e00eb077fca"
      },
      "execution_count": 38,
      "outputs": [
        {
          "output_type": "stream",
          "name": "stdout",
          "text": [
            "[1, 6, 7]\n"
          ]
        }
      ]
    },
    {
      "cell_type": "code",
      "source": [
        "from functools import reduce\n",
        "nums = [10,20,30]\n",
        "\n",
        "total = reduce(lambda x, y: x * y, nums)\n",
        "\n",
        "print(total)"
      ],
      "metadata": {
        "colab": {
          "base_uri": "https://localhost:8080/"
        },
        "id": "bCRhQwQ1OBmV",
        "outputId": "6be648f8-cb81-48de-e5d0-ad0698697c0a"
      },
      "execution_count": 40,
      "outputs": [
        {
          "output_type": "stream",
          "name": "stdout",
          "text": [
            "6000\n"
          ]
        }
      ]
    },
    {
      "cell_type": "code",
      "source": [
        "nums = [1,2,3,4,5]\n",
        "\n",
        "squares = [x*x for x in nums]\n",
        "print(squares)"
      ],
      "metadata": {
        "colab": {
          "base_uri": "https://localhost:8080/"
        },
        "id": "hTIZFwRYOUhV",
        "outputId": "11e3e996-fd00-400e-9b84-6b42426887ae"
      },
      "execution_count": 41,
      "outputs": [
        {
          "output_type": "stream",
          "name": "stdout",
          "text": [
            "[1, 4, 9, 16, 25]\n"
          ]
        }
      ]
    },
    {
      "cell_type": "code",
      "source": [
        "odd_squares = [x*x for x in nums if x % 2 != 0]\n",
        "print(odd_squares)"
      ],
      "metadata": {
        "colab": {
          "base_uri": "https://localhost:8080/"
        },
        "id": "5Iq7y224OjPS",
        "outputId": "6acb9405-f33d-441b-b9b0-19e1f07488c7"
      },
      "execution_count": 42,
      "outputs": [
        {
          "output_type": "stream",
          "name": "stdout",
          "text": [
            "[1, 9, 25]\n"
          ]
        }
      ]
    },
    {
      "cell_type": "code",
      "source": [],
      "metadata": {
        "id": "hrIoAhLEOt4c"
      },
      "execution_count": null,
      "outputs": []
    }
  ]
}