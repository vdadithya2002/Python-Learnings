{
  "nbformat": 4,
  "nbformat_minor": 0,
  "metadata": {
    "colab": {
      "provenance": [],
      "authorship_tag": "ABX9TyO7Gzt3c3HfhRAW21sJNBaF",
      "include_colab_link": true
    },
    "kernelspec": {
      "name": "python3",
      "display_name": "Python 3"
    },
    "language_info": {
      "name": "python"
    }
  },
  "cells": [
    {
      "cell_type": "markdown",
      "metadata": {
        "id": "view-in-github",
        "colab_type": "text"
      },
      "source": [
        "<a href=\"https://colab.research.google.com/github/vdadithya2002/Python-Learnings/blob/main/PythonDay2.ipynb\" target=\"_parent\"><img src=\"https://colab.research.google.com/assets/colab-badge.svg\" alt=\"Open In Colab\"/></a>"
      ]
    },
    {
      "cell_type": "markdown",
      "source": [
        "#Input and Output"
      ],
      "metadata": {
        "id": "dxnff1K8Db07"
      }
    },
    {
      "cell_type": "code",
      "source": [
        "#normal input\n",
        "\n",
        "name = input(\"Enter your name: \")\n",
        "print(\"Welcome to Google collab\", name )"
      ],
      "metadata": {
        "colab": {
          "base_uri": "https://localhost:8080/"
        },
        "id": "YuMomeizDgt5",
        "outputId": "cc939dd2-3a31-42fd-9b7c-6748ed96946a"
      },
      "execution_count": null,
      "outputs": [
        {
          "output_type": "stream",
          "name": "stdout",
          "text": [
            "Enter your name: aditya\n",
            "Welcome to Google collab aditya\n"
          ]
        }
      ]
    },
    {
      "cell_type": "markdown",
      "source": [
        "taking multiple inputs from the user"
      ],
      "metadata": {
        "id": "QY7l5w8sD6Pa"
      }
    },
    {
      "cell_type": "code",
      "source": [
        "x, y = input(\"Enter two numbers: \").split()\n",
        "\n",
        "print(\"The first number is: \", x)\n",
        "print(\"The second number is: \", y)"
      ],
      "metadata": {
        "colab": {
          "base_uri": "https://localhost:8080/"
        },
        "id": "ENei3WCZD8mg",
        "outputId": "fe0f2724-e733-4f5e-8831-c84a2a74a377"
      },
      "execution_count": null,
      "outputs": [
        {
          "output_type": "stream",
          "name": "stdout",
          "text": [
            "Enter two numbers: 5 6\n",
            "The first number is:  5\n",
            "The second number is:  6\n"
          ]
        }
      ]
    },
    {
      "cell_type": "code",
      "source": [
        "a, b, c = input(\"Scores of three subjects: \").split()\n",
        "\n",
        "print(\"Score of first subject: \", a)\n",
        "print(\"Score of second subject: \", b)\n",
        "print(\"Score of thirs subject: \", c)"
      ],
      "metadata": {
        "colab": {
          "base_uri": "https://localhost:8080/"
        },
        "id": "mQL0DmNdEZW0",
        "outputId": "fade3ece-39e0-4d57-d05c-1a8008f3014c"
      },
      "execution_count": null,
      "outputs": [
        {
          "output_type": "stream",
          "name": "stdout",
          "text": [
            "Scores of three subjects: 20 45 30\n",
            "Score of first subject:  20\n",
            "Score of second subject:  45\n",
            "Score of thirs subject:  30\n"
          ]
        }
      ]
    },
    {
      "cell_type": "markdown",
      "source": [
        "conditional input"
      ],
      "metadata": {
        "id": "fBiRB3PmFDED"
      }
    },
    {
      "cell_type": "code",
      "source": [
        "p = input(\"Enter ur age: \")\n",
        "\n",
        "age = int(p)\n",
        "\n",
        "if age < 0 :\n",
        "  print(\"Invalid age, not selected\")\n",
        "elif age < 18 :\n",
        "  print(\"Age is below 18\")\n",
        "else :\n",
        "  print(\"Selected\")"
      ],
      "metadata": {
        "colab": {
          "base_uri": "https://localhost:8080/"
        },
        "id": "8bYMh6mEEuL-",
        "outputId": "d2a05e85-c165-4d64-de65-8e71b5394480"
      },
      "execution_count": null,
      "outputs": [
        {
          "output_type": "stream",
          "name": "stdout",
          "text": [
            "Enter ur age: 6\n",
            "Age is below 18\n"
          ]
        }
      ]
    },
    {
      "cell_type": "markdown",
      "source": [
        "#output Formating"
      ],
      "metadata": {
        "id": "RDCrGft3F1Xk"
      }
    },
    {
      "cell_type": "code",
      "source": [
        "amount = 143\n",
        "print(\"Amount: ${:.2f}\".format(amount))\n"
      ],
      "metadata": {
        "colab": {
          "base_uri": "https://localhost:8080/"
        },
        "id": "mCMHz-KLFU8x",
        "outputId": "ab813fe8-2666-4e31-f855-0099137f0b04"
      },
      "execution_count": null,
      "outputs": [
        {
          "output_type": "stream",
          "name": "stdout",
          "text": [
            "Amount: $143.00\n"
          ]
        }
      ]
    },
    {
      "cell_type": "code",
      "source": [
        "print('G', 'F', 'G', sep=' @  -  @  - ')"
      ],
      "metadata": {
        "colab": {
          "base_uri": "https://localhost:8080/"
        },
        "id": "8ovPza0mGhsy",
        "outputId": "47232d83-2a61-42a0-c0d6-a0a2f4461fd5"
      },
      "execution_count": null,
      "outputs": [
        {
          "output_type": "stream",
          "name": "stdout",
          "text": [
            "G @  -  @  - F @  -  @  - G\n"
          ]
        }
      ]
    },
    {
      "cell_type": "code",
      "source": [
        "Name = 'Adithya'\n",
        "age = 22\n",
        "print(f\"Hello, My name is {Name} and I'm {age} years old.\")"
      ],
      "metadata": {
        "colab": {
          "base_uri": "https://localhost:8080/"
        },
        "id": "OveKVlXbGvFI",
        "outputId": "9b992486-6436-4dd9-9b53-a6f3d128d461"
      },
      "execution_count": null,
      "outputs": [
        {
          "output_type": "stream",
          "name": "stdout",
          "text": [
            "Hello, My name is Adithya and I'm 22 years old.\n"
          ]
        }
      ]
    },
    {
      "cell_type": "markdown",
      "source": [
        "#Type casting"
      ],
      "metadata": {
        "id": "LDfFUiDfLFT6"
      }
    },
    {
      "cell_type": "code",
      "source": [
        "a = 5\n",
        "\n",
        "n = float(a)\n",
        "\n",
        "print(n)\n",
        "\n",
        "z = int(n)\n",
        "\n",
        "print(z)\n",
        "\n",
        "y = str(z)\n",
        "\n",
        "print(y)"
      ],
      "metadata": {
        "colab": {
          "base_uri": "https://localhost:8080/"
        },
        "id": "xB1CrpBxHlPJ",
        "outputId": "12b3fbc3-c358-4bf9-cffa-a37f1c9998b6"
      },
      "execution_count": null,
      "outputs": [
        {
          "output_type": "stream",
          "name": "stdout",
          "text": [
            "5.0\n",
            "5\n",
            "5\n"
          ]
        }
      ]
    },
    {
      "cell_type": "markdown",
      "source": [
        "#Simple calculator"
      ],
      "metadata": {
        "id": "KilvkU7gLAPn"
      }
    },
    {
      "cell_type": "code",
      "source": [
        "z = int(input(\"Enter first Number: \"))\n",
        "\n",
        "y = int(input(\"Enter Second Number: \"))\n",
        "\n",
        "Sum = z + y\n",
        "print(\"Sum: \", Sum)\n",
        "\n",
        "Difference = z - y\n",
        "print(\"Difference: \", Difference)\n",
        "\n",
        "Product = z * y\n",
        "print(\"Product: \", Product)\n",
        "\n",
        "Quotient = z // y\n",
        "print(\"Quotient: \", Quotient)"
      ],
      "metadata": {
        "colab": {
          "base_uri": "https://localhost:8080/"
        },
        "id": "DChySPqJMJjE",
        "outputId": "4f9792cd-430c-45a0-ad30-d297d69ef2c6"
      },
      "execution_count": null,
      "outputs": [
        {
          "output_type": "stream",
          "name": "stdout",
          "text": [
            "Enter first Number: 10\n",
            "Enter Second Number: 2\n",
            "Sum:  12\n",
            "Difference:  8\n",
            "Product:  20\n",
            "Quotient:  5\n"
          ]
        }
      ]
    },
    {
      "cell_type": "markdown",
      "source": [
        "#Operators"
      ],
      "metadata": {
        "id": "g4I0ZqzpN8sT"
      }
    },
    {
      "cell_type": "code",
      "source": [
        "a,b,c = 10, 20, 15\n",
        "\n",
        "print(\"Addition: \", a+b+c)\n",
        "print(\"Subtraction: \", b-a)\n",
        "print(\"Multiplication: \", a*b*c)\n",
        "print(\"Divison: \", b / a)\n",
        "print(\"FLoat Divison: \", b // a)\n",
        "print(\"Modulus: \", b % a)\n",
        "print(\"Exponent: \", a ** 2)"
      ],
      "metadata": {
        "id": "OLJqo-3WM1l5",
        "colab": {
          "base_uri": "https://localhost:8080/"
        },
        "outputId": "20e89385-0f04-472c-a734-c2e731a132c8"
      },
      "execution_count": null,
      "outputs": [
        {
          "output_type": "stream",
          "name": "stdout",
          "text": [
            "Addition:  45\n",
            "Subtraction:  10\n",
            "Multiplication:  3000\n",
            "Divison:  2.0\n",
            "FLoat Divison:  2\n",
            "Modulus:  0\n",
            "Exponent:  100\n"
          ]
        }
      ]
    },
    {
      "cell_type": "markdown",
      "source": [
        "comparsion operators"
      ],
      "metadata": {
        "id": "Lp8uT9EgIAlM"
      }
    },
    {
      "cell_type": "code",
      "source": [
        "a = 15\n",
        "b = 34\n",
        "c = 34\n",
        "\n",
        "print( a > b)\n",
        "print(a < b)\n",
        "print(a == b)\n",
        "print(b == c)\n",
        "print(a != b)\n",
        "print(b != c)\n"
      ],
      "metadata": {
        "colab": {
          "base_uri": "https://localhost:8080/"
        },
        "id": "0esxKGKzGpSR",
        "outputId": "dcd12820-5cfd-45e1-95e1-407ad227e6d5"
      },
      "execution_count": null,
      "outputs": [
        {
          "output_type": "stream",
          "name": "stdout",
          "text": [
            "False\n",
            "True\n",
            "False\n",
            "True\n",
            "True\n",
            "False\n"
          ]
        }
      ]
    },
    {
      "cell_type": "markdown",
      "source": [
        "Logical operators"
      ],
      "metadata": {
        "id": "nVJf5biWIxZu"
      }
    },
    {
      "cell_type": "code",
      "source": [
        "a = True\n",
        "b = False\n",
        "c = True\n",
        "\n",
        "print(a and b)\n",
        "print(a and c)\n",
        "print(a or b)\n",
        "print(not a)"
      ],
      "metadata": {
        "colab": {
          "base_uri": "https://localhost:8080/"
        },
        "id": "LXO49WNeIGlf",
        "outputId": "257bec2b-e1df-4fe5-9f3a-027c8e6dda70"
      },
      "execution_count": null,
      "outputs": [
        {
          "output_type": "stream",
          "name": "stdout",
          "text": [
            "False\n",
            "True\n",
            "True\n",
            "False\n"
          ]
        }
      ]
    },
    {
      "cell_type": "markdown",
      "source": [
        "Bitwise operators\n"
      ],
      "metadata": {
        "id": "GQqySXLiJLCX"
      }
    },
    {
      "cell_type": "code",
      "source": [
        "a = 12\n",
        "b = 14\n",
        "\n",
        "print(a & b)\n",
        "print( a | b)\n",
        "print(~a)\n",
        "print( a ^ b)\n",
        "print( a >> 2)\n",
        "print( a << 2)"
      ],
      "metadata": {
        "colab": {
          "base_uri": "https://localhost:8080/"
        },
        "id": "MNZYnI-_I_mG",
        "outputId": "167f1484-fce9-4c51-b865-24cf6f9de3a9"
      },
      "execution_count": null,
      "outputs": [
        {
          "output_type": "stream",
          "name": "stdout",
          "text": [
            "12\n",
            "14\n",
            "-13\n",
            "2\n",
            "3\n",
            "48\n"
          ]
        }
      ]
    },
    {
      "cell_type": "markdown",
      "source": [
        "#Identity Operators in Python\n",
        "In Python, is and is not are the identity operators both are used to check if two values are located on the same part of the memory. Two variables that are equal do not imply that they are identical.\n",
        "\n",
        "is          True if the operands are identical\n",
        "is not      True if the operands are not identical \\"
      ],
      "metadata": {
        "id": "8EpztN5AJIjR"
      }
    },
    {
      "cell_type": "code",
      "source": [
        "a = 10\n",
        "b = 20\n",
        "c = a\n",
        "d = b\n",
        "e = 25\n",
        "\n",
        "print(a is not b and b is c)\n",
        "print(a is not b or b is d)\n",
        "\n",
        "print(a is c)"
      ],
      "metadata": {
        "colab": {
          "base_uri": "https://localhost:8080/"
        },
        "id": "FQz6lJEuKA5j",
        "outputId": "9698e9db-a283-40ab-b4dd-33d66d6d1f0c"
      },
      "execution_count": null,
      "outputs": [
        {
          "output_type": "stream",
          "name": "stdout",
          "text": [
            "False\n",
            "True\n",
            "True\n"
          ]
        }
      ]
    },
    {
      "cell_type": "markdown",
      "source": [
        "#Membership Operators in Python\n",
        "In Python, in and not in are the membership operators that are used to test whether a value or variable is in a sequence.\n",
        "\n",
        "in            True if value is found in the sequence\n",
        "not in        True if value is not found in the sequence"
      ],
      "metadata": {
        "id": "Hf9gdIY7Kq6B"
      }
    },
    {
      "cell_type": "code",
      "source": [
        "x = 15\n",
        "y = 9\n",
        "\n",
        "list = [10,24,32,15,2,5]\n",
        "\n",
        "if (x not in list):\n",
        "  print(\"x is NOT present in given list\")\n",
        "\n",
        "else:\n",
        "  print(\"x is present in given list\")\n",
        "\n",
        "if ( y in list):\n",
        "  print(\"y is present in given list\")\n",
        "else:\n",
        "  print(\"y is not present in given list\")\n",
        "\n",
        "\n"
      ],
      "metadata": {
        "colab": {
          "base_uri": "https://localhost:8080/"
        },
        "id": "_ZvI2ffcKM_Q",
        "outputId": "62d736cf-60c2-4aa6-f0b7-9bd85eb9e13d"
      },
      "execution_count": null,
      "outputs": [
        {
          "output_type": "stream",
          "name": "stdout",
          "text": [
            "x is present in given list\n",
            "y is not present in given list\n"
          ]
        }
      ]
    },
    {
      "cell_type": "markdown",
      "source": [
        "#Ternary Operator in Python\n",
        "in Python, Ternary operators also known as conditional expressions are operators that evaluate something based on a condition being true or false"
      ],
      "metadata": {
        "id": "MhHN5f-ZLlJL"
      }
    },
    {
      "cell_type": "code",
      "source": [
        "a, b, c , d = 2,5, 10, 3\n",
        "\n",
        "min = a if a < b else b\n",
        "print(min)\n",
        "\n",
        "max = c if c < d else d\n",
        "print(max)"
      ],
      "metadata": {
        "colab": {
          "base_uri": "https://localhost:8080/"
        },
        "id": "9_R-7C24LjEd",
        "outputId": "ae33ecd1-ffa9-48cb-fef2-14b3bb529a91"
      },
      "execution_count": null,
      "outputs": [
        {
          "output_type": "stream",
          "name": "stdout",
          "text": [
            "2\n",
            "3\n"
          ]
        }
      ]
    },
    {
      "cell_type": "markdown",
      "source": [
        "Precedence and Associativity of Operators in Python\n",
        "In Python, Operator precedence and associativity determine the priorities of the operator."
      ],
      "metadata": {
        "id": "PZ-2SoFPMPtN"
      }
    },
    {
      "cell_type": "code",
      "source": [
        "expr = 10 + 20 * 30\n",
        "\n",
        "print(expr)\n",
        "name = \"John\"\n",
        "age = 0\n",
        "\n",
        "if name == \"Alex\" or name == \"John\" and age >= 2:\n",
        "  print(f\"Hello\", {name})\n",
        "else:\n",
        "  print(\"Good Bye!\")"
      ],
      "metadata": {
        "colab": {
          "base_uri": "https://localhost:8080/"
        },
        "id": "qATrDyNfL6nJ",
        "outputId": "da1c7738-3015-40a4-c9c4-3e9a6b1dafa5"
      },
      "execution_count": null,
      "outputs": [
        {
          "output_type": "stream",
          "name": "stdout",
          "text": [
            "610\n",
            "Good Bye!\n"
          ]
        }
      ]
    },
    {
      "cell_type": "code",
      "source": [
        "#operator assocativity in python\n",
        "#same as bodmas rule\n",
        "\n",
        "\n",
        "print(100 / 2 * 10)\n",
        "\n",
        "print(5 - 2 + 3)"
      ],
      "metadata": {
        "colab": {
          "base_uri": "https://localhost:8080/"
        },
        "id": "HhQFudCIMUoD",
        "outputId": "eff60dee-1a04-4a7b-804d-623af0972404"
      },
      "execution_count": null,
      "outputs": [
        {
          "output_type": "stream",
          "name": "stdout",
          "text": [
            "500.0\n",
            "6\n"
          ]
        }
      ]
    },
    {
      "cell_type": "markdown",
      "source": [
        "#Conditional Statemenets\n"
      ],
      "metadata": {
        "id": "Y8COJU5DPsub"
      }
    },
    {
      "cell_type": "code",
      "source": [
        "age = 19\n",
        "\n",
        "if age >= 18: print(\"You're eglible for voting\")\n",
        "else: print(\"You're not eligible for voting\")\n",
        "\n"
      ],
      "metadata": {
        "colab": {
          "base_uri": "https://localhost:8080/"
        },
        "id": "X1E6yv54NFM7",
        "outputId": "c110efca-29c9-4b3a-ba36-6b8a130d54ea"
      },
      "execution_count": null,
      "outputs": [
        {
          "output_type": "stream",
          "name": "stdout",
          "text": [
            "You're eglible for voting\n"
          ]
        }
      ]
    },
    {
      "cell_type": "code",
      "source": [
        "#short hand if-else\n",
        "\n",
        "marks = 45\n",
        "res = \"Pass\" if marks >= 40 else \"Fail\"\n",
        "\n",
        "print(f\"Result: {res}\")"
      ],
      "metadata": {
        "colab": {
          "base_uri": "https://localhost:8080/"
        },
        "id": "sPI8VQ-wRA0z",
        "outputId": "dabd6361-4854-4da2-c453-b8e38b6ca0d3"
      },
      "execution_count": null,
      "outputs": [
        {
          "output_type": "stream",
          "name": "stdout",
          "text": [
            "Result: Pass\n"
          ]
        }
      ]
    },
    {
      "cell_type": "code",
      "source": [
        "#Nested if..else conditionals statements in Python\n",
        "\n",
        "age = 70\n",
        "is_member = False\n",
        "\n",
        "if age >= 60:\n",
        "  if is_member:\n",
        "    print(\"30% Discount\")\n",
        "  else:\n",
        "    print(\"20% Discount\")\n",
        "else:\n",
        "  print(\"Not eligible for a senior discount\")"
      ],
      "metadata": {
        "colab": {
          "base_uri": "https://localhost:8080/"
        },
        "id": "i3JSfUzUSRMm",
        "outputId": "297b9a23-d1da-4359-8093-18aa194dd369"
      },
      "execution_count": null,
      "outputs": [
        {
          "output_type": "stream",
          "name": "stdout",
          "text": [
            "20% Discount\n"
          ]
        }
      ]
    },
    {
      "cell_type": "code",
      "source": [
        "#Ternary Conditional Statement in Python\n",
        "age = 9\n",
        "s = \"Adult\" if age >= 18 else \"Minor\"\n",
        "\n",
        "print(s)"
      ],
      "metadata": {
        "colab": {
          "base_uri": "https://localhost:8080/"
        },
        "id": "M0cNUOMiTXkC",
        "outputId": "11d6c539-e6bd-4c58-d8c2-85b9f7778059"
      },
      "execution_count": null,
      "outputs": [
        {
          "output_type": "stream",
          "name": "stdout",
          "text": [
            "Minor\n"
          ]
        }
      ]
    },
    {
      "cell_type": "markdown",
      "source": [
        "#Boolean Logics"
      ],
      "metadata": {
        "id": "2sXx9NkHU05x"
      }
    },
    {
      "cell_type": "code",
      "source": [
        "#Example 1 :Checking whether a list is empty or not. We will pass the list in the bool() function. When the list is empty, False is returned and if the list is not empty True is returned.\n",
        "\n",
        "def check_Empty(list_name):\n",
        "  print(bool(list_name))\n",
        "\n",
        "if __name__ == \"__main__\":\n",
        "  my_list = []\n",
        "  check_Empty(my_list)\n",
        "\n",
        "  my_list1 = [1,2,3]\n",
        "  check_Empty(my_list1)\n"
      ],
      "metadata": {
        "colab": {
          "base_uri": "https://localhost:8080/"
        },
        "id": "Cg3pZdGyT0uI",
        "outputId": "0d4b9910-4b7e-4cea-8d2a-2ee109e252a2"
      },
      "execution_count": null,
      "outputs": [
        {
          "output_type": "stream",
          "name": "stdout",
          "text": [
            "False\n",
            "True\n"
          ]
        }
      ]
    },
    {
      "cell_type": "markdown",
      "source": [],
      "metadata": {
        "id": "FJ8ObgJsUzb4"
      }
    }
  ]
}