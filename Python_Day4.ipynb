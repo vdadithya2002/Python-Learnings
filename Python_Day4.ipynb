{
  "nbformat": 4,
  "nbformat_minor": 0,
  "metadata": {
    "colab": {
      "provenance": [],
      "authorship_tag": "ABX9TyO7zFFbFyukuCjsRw30Ox9h",
      "include_colab_link": true
    },
    "kernelspec": {
      "name": "python3",
      "display_name": "Python 3"
    },
    "language_info": {
      "name": "python"
    }
  },
  "cells": [
    {
      "cell_type": "markdown",
      "metadata": {
        "id": "view-in-github",
        "colab_type": "text"
      },
      "source": [
        "<a href=\"https://colab.research.google.com/github/vdadithya2002/Python-Learnings/blob/main/Python_Day4.ipynb\" target=\"_parent\"><img src=\"https://colab.research.google.com/assets/colab-badge.svg\" alt=\"Open In Colab\"/></a>"
      ]
    },
    {
      "cell_type": "markdown",
      "source": [
        "#lists\n"
      ],
      "metadata": {
        "id": "Lo3cge4Osmzx"
      }
    },
    {
      "cell_type": "markdown",
      "source": [
        "Lists indicates in [ ]"
      ],
      "metadata": {
        "id": "oogTTHdlssIx"
      }
    },
    {
      "cell_type": "code",
      "source": [
        "a = [\"Khaleja\", \"143\", \"45.3\", \"salaar\"]\n",
        "print(a)"
      ],
      "metadata": {
        "colab": {
          "base_uri": "https://localhost:8080/"
        },
        "id": "ERPOucuXspBG",
        "outputId": "a516f197-31bd-42f1-dae6-1dcb924babd0"
      },
      "execution_count": 2,
      "outputs": [
        {
          "output_type": "stream",
          "name": "stdout",
          "text": [
            "['Khaleja', '143', '45.3', 'salaar']\n"
          ]
        }
      ]
    },
    {
      "cell_type": "code",
      "source": [
        "print(a[2])\n",
        "print(a[0])\n",
        "print(a[1])"
      ],
      "metadata": {
        "colab": {
          "base_uri": "https://localhost:8080/"
        },
        "id": "XmNb9_gis-Jd",
        "outputId": "0f0ebc0d-5016-43ad-b7fd-2e2480a3f713"
      },
      "execution_count": 6,
      "outputs": [
        {
          "output_type": "stream",
          "name": "stdout",
          "text": [
            "45.3\n",
            "Khaleja\n",
            "143\n"
          ]
        }
      ]
    },
    {
      "cell_type": "code",
      "source": [
        "#Creating a List\n",
        "\n",
        "z = [1,45,9,13,5]\n",
        "b = ['Khaleja', 'varsham', 'salaar', 'hara hara vera manulu']\n",
        "c = a\n",
        "\n",
        "print(z)\n",
        "print(b)\n",
        "print(c)"
      ],
      "metadata": {
        "colab": {
          "base_uri": "https://localhost:8080/"
        },
        "id": "gDLN-J1ztDsy",
        "outputId": "1b141c9c-1169-49c1-ecbc-e3ec1261002b"
      },
      "execution_count": 7,
      "outputs": [
        {
          "output_type": "stream",
          "name": "stdout",
          "text": [
            "[1, 45, 9, 13, 5]\n",
            "['Khaleja', 'varsham', 'salaar', 'hara hara vera manulu']\n",
            "['Khaleja', '143', '45.3', 'salaar']\n"
          ]
        }
      ]
    },
    {
      "cell_type": "markdown",
      "source": [
        "creating a list with repeated elements"
      ],
      "metadata": {
        "id": "j4Yy1Hyzt18S"
      }
    },
    {
      "cell_type": "code",
      "source": [
        "v = [2] * 5\n",
        "print(v)\n",
        "\n",
        "\n",
        "o = [a] * 3\n",
        "print (o)"
      ],
      "metadata": {
        "colab": {
          "base_uri": "https://localhost:8080/"
        },
        "id": "K-ryp3PVtslB",
        "outputId": "edf09dba-2bc3-4cfb-9153-7b1a48ca5e23"
      },
      "execution_count": 10,
      "outputs": [
        {
          "output_type": "stream",
          "name": "stdout",
          "text": [
            "[2, 2, 2, 2, 2]\n",
            "[['Khaleja', '143', '45.3', 'salaar'], ['Khaleja', '143', '45.3', 'salaar'], ['Khaleja', '143', '45.3', 'salaar']]\n"
          ]
        }
      ]
    },
    {
      "cell_type": "code",
      "source": [
        "print(o[2])\n",
        "print(v[-1])"
      ],
      "metadata": {
        "colab": {
          "base_uri": "https://localhost:8080/"
        },
        "id": "h_c0sPCRt72i",
        "outputId": "bbfd66b0-81f2-49bf-d3a8-e6b0d74aa714"
      },
      "execution_count": 12,
      "outputs": [
        {
          "output_type": "stream",
          "name": "stdout",
          "text": [
            "['Khaleja', '143', '45.3', 'salaar']\n",
            "2\n"
          ]
        }
      ]
    },
    {
      "cell_type": "markdown",
      "source": [
        "adding elements into list\n",
        "\n",
        "append()\n",
        "extend()\n",
        "insert()"
      ],
      "metadata": {
        "id": "6d8VTvYTuOmb"
      }
    },
    {
      "cell_type": "code",
      "source": [
        "q = []\n",
        "\n",
        "q.append(2)\n",
        "print('list after append function:', q)\n",
        "\n",
        "q.append(3)\n",
        "print('list after append function:', q)\n",
        "\n",
        "q.append(4)\n",
        "print('list after append function:', q)\n",
        "\n",
        "\n",
        "\n",
        "q.insert(2, \"u\")\n",
        "print('list after insert function', q)\n",
        "\n",
        "q.extend([\"bms\", \"this\"])\n",
        "print('list after extend function', q)\n",
        "\n",
        "\n",
        "q[2] = \"y\"\n",
        "print('list after change', q)"
      ],
      "metadata": {
        "colab": {
          "base_uri": "https://localhost:8080/"
        },
        "id": "5vFb6FKpuI3W",
        "outputId": "d6ebe22d-b04c-488c-9008-2d3aa76a452d"
      },
      "execution_count": 22,
      "outputs": [
        {
          "output_type": "stream",
          "name": "stdout",
          "text": [
            "list after append function: [2]\n",
            "list after append function: [2, 3]\n",
            "list after append function: [2, 3, 4]\n",
            "list after insert function [2, 3, 'u', 4]\n",
            "list after extend function [2, 3, 'u', 4, 'bms', 'this']\n",
            "list after change [2, 3, 'y', 4, 'bms', 'this']\n"
          ]
        }
      ]
    },
    {
      "cell_type": "markdown",
      "source": [
        "Removing elements from list\n",
        "\n",
        "remove()\n",
        "pop()\n",
        "del()"
      ],
      "metadata": {
        "id": "tS86H0a0vQHi"
      }
    },
    {
      "cell_type": "code",
      "source": [
        "q.remove(2)\n",
        "print('list after removing 2 : ', q)"
      ],
      "metadata": {
        "colab": {
          "base_uri": "https://localhost:8080/"
        },
        "id": "LTmBdMRfudSY",
        "outputId": "48a8e727-d0b9-4e5c-f8d6-9a46ec23d8c0"
      },
      "execution_count": 25,
      "outputs": [
        {
          "output_type": "stream",
          "name": "stdout",
          "text": [
            "list after removing 2 :  [3, 'y', 'bms', 'this']\n"
          ]
        }
      ]
    },
    {
      "cell_type": "code",
      "source": [
        "popped_num = q.pop(3)\n",
        "print('popped element: ', popped_num)\n",
        "print('list after popped element: ', q)"
      ],
      "metadata": {
        "colab": {
          "base_uri": "https://localhost:8080/"
        },
        "id": "QhNHfWbcve9o",
        "outputId": "e625c506-08fc-4dcf-fbf0-035817335eb5"
      },
      "execution_count": 26,
      "outputs": [
        {
          "output_type": "stream",
          "name": "stdout",
          "text": [
            "popped element:  this\n",
            "list after popped element:  [3, 'y', 'bms']\n"
          ]
        }
      ]
    },
    {
      "cell_type": "code",
      "source": [
        "del q[2]\n",
        "print('list after del function: ', q)"
      ],
      "metadata": {
        "colab": {
          "base_uri": "https://localhost:8080/"
        },
        "id": "6R2kEjRLv1yl",
        "outputId": "a2a471a5-fc3e-44df-a606-5e7d87daede7"
      },
      "execution_count": 27,
      "outputs": [
        {
          "output_type": "stream",
          "name": "stdout",
          "text": [
            "list after del function:  [3, 'y']\n"
          ]
        }
      ]
    },
    {
      "cell_type": "markdown",
      "source": [
        "iteratinng over lists"
      ],
      "metadata": {
        "id": "Swq0MD1Qv-uA"
      }
    },
    {
      "cell_type": "code",
      "source": [
        "for item in q:\n",
        "  print(item)"
      ],
      "metadata": {
        "colab": {
          "base_uri": "https://localhost:8080/"
        },
        "id": "vSnl1KGYv72r",
        "outputId": "2b80eef7-7a54-4489-cdf2-b4cd0d15a6ab"
      },
      "execution_count": 28,
      "outputs": [
        {
          "output_type": "stream",
          "name": "stdout",
          "text": [
            "3\n",
            "y\n"
          ]
        }
      ]
    },
    {
      "cell_type": "code",
      "source": [],
      "metadata": {
        "id": "EbpwW9Y2wfnM"
      },
      "execution_count": null,
      "outputs": []
    },
    {
      "cell_type": "code",
      "source": [
        "import numpy as np\n",
        "\n",
        "e = np.random.rand(4,2)\n",
        "print(e)\n",
        "\n",
        "\n",
        "print(e[2][1])"
      ],
      "metadata": {
        "colab": {
          "base_uri": "https://localhost:8080/"
        },
        "id": "ZRKco7ccwLPt",
        "outputId": "9200d887-0321-4c06-adf8-64ddee94fabe"
      },
      "execution_count": 34,
      "outputs": [
        {
          "output_type": "stream",
          "name": "stdout",
          "text": [
            "[[0.4096097  0.26959193]\n",
            " [0.28289808 0.60483821]\n",
            " [0.95060224 0.22528662]\n",
            " [0.81820207 0.48587688]]\n",
            "0.22528661552839857\n"
          ]
        }
      ]
    },
    {
      "cell_type": "code",
      "source": [
        "a = ['Learn', 'Quiz', 'Practice', 'Contribute']\n",
        "b = a\n",
        "c = a[:]\n",
        "\n",
        "b[0] = 'Code'\n",
        "c[1] = 'Mcq'\n",
        "\n",
        "count = 0\n",
        "for c in (a, b, c):\n",
        "\tif c[0] == 'Code':\n",
        "\t\tcount += 1\n",
        "\tif c[1] == 'Mcq':\n",
        "\t\tcount += 10\n",
        "\n",
        "print (count)\n"
      ],
      "metadata": {
        "colab": {
          "base_uri": "https://localhost:8080/"
        },
        "id": "1uGqjcupwVp8",
        "outputId": "b04b2f09-e65a-45ec-f3c6-5f0ad5102b15"
      },
      "execution_count": 35,
      "outputs": [
        {
          "output_type": "stream",
          "name": "stdout",
          "text": [
            "12\n"
          ]
        }
      ]
    },
    {
      "cell_type": "code",
      "source": [
        "a = ['python', 'learning', '@', 'Geeks', 'for', 'Geeks', 'gniscf']\n",
        "print(a[0:7:3])\n"
      ],
      "metadata": {
        "colab": {
          "base_uri": "https://localhost:8080/"
        },
        "id": "A_bxcrhTxLcH",
        "outputId": "37dc88e9-0da5-4326-cb30-ee4d7d99e905"
      },
      "execution_count": 39,
      "outputs": [
        {
          "output_type": "stream",
          "name": "stdout",
          "text": [
            "['python', 'Geeks', 'gniscf']\n"
          ]
        }
      ]
    },
    {
      "cell_type": "code",
      "source": [
        "a = [x for x in range(5)]\n",
        "b = [x for x in range(7) if x in a and x%2==0]\n",
        "print(b)\n"
      ],
      "metadata": {
        "colab": {
          "base_uri": "https://localhost:8080/"
        },
        "id": "kfVXKECmxvJ9",
        "outputId": "7bd530c1-e55c-476e-d00d-2c84f9721749"
      },
      "execution_count": 40,
      "outputs": [
        {
          "output_type": "stream",
          "name": "stdout",
          "text": [
            "[0, 2, 4]\n"
          ]
        }
      ]
    },
    {
      "cell_type": "code",
      "source": [],
      "metadata": {
        "id": "QlnxXkobyMpf"
      },
      "execution_count": null,
      "outputs": []
    },
    {
      "cell_type": "markdown",
      "source": [
        "#Sets"
      ],
      "metadata": {
        "id": "n9hxyv6t2SKj"
      }
    },
    {
      "cell_type": "markdown",
      "source": [
        "sets indicates in { }"
      ],
      "metadata": {
        "id": "mNbsGF5P6c6z"
      }
    },
    {
      "cell_type": "code",
      "source": [
        "s = {1, 69, 143}\n",
        "\n",
        "print(s)\n",
        "print(type(s))"
      ],
      "metadata": {
        "colab": {
          "base_uri": "https://localhost:8080/"
        },
        "id": "3Lih7vlf2UaP",
        "outputId": "05446a92-b274-4c91-f035-af149b81092e"
      },
      "execution_count": 42,
      "outputs": [
        {
          "output_type": "stream",
          "name": "stdout",
          "text": [
            "{1, 69, 143}\n",
            "<class 'set'>\n"
          ]
        }
      ]
    },
    {
      "cell_type": "code",
      "source": [
        "s.add(\"d\")\n",
        "print(s)"
      ],
      "metadata": {
        "colab": {
          "base_uri": "https://localhost:8080/"
        },
        "id": "r_XzHWt76lfW",
        "outputId": "409527e3-e218-4552-b33c-8ec5a89bef9f"
      },
      "execution_count": 48,
      "outputs": [
        {
          "output_type": "stream",
          "name": "stdout",
          "text": [
            "{1, 69, 143, 'd', 'Virat'}\n"
          ]
        }
      ]
    },
    {
      "cell_type": "code",
      "source": [
        "s.add(\"Virat\")\n",
        "print(s)"
      ],
      "metadata": {
        "colab": {
          "base_uri": "https://localhost:8080/"
        },
        "id": "Oz418KUo6wBm",
        "outputId": "887304c3-5eb5-4dad-de4d-190acbfb4920"
      },
      "execution_count": 49,
      "outputs": [
        {
          "output_type": "stream",
          "name": "stdout",
          "text": [
            "{1, 69, 143, 'd', 'Virat'}\n"
          ]
        }
      ]
    },
    {
      "cell_type": "code",
      "source": [
        "for i in range(1,7):\n",
        "  s.add(i)\n",
        "\n",
        "\n",
        "print(s)"
      ],
      "metadata": {
        "colab": {
          "base_uri": "https://localhost:8080/"
        },
        "id": "FNBDrqgd7QiG",
        "outputId": "dfe0dbc1-3134-4206-ab49-d93805d6eb5a"
      },
      "execution_count": 55,
      "outputs": [
        {
          "output_type": "stream",
          "name": "stdout",
          "text": [
            "{1, 2, 3, 4, 69, 5, 6, 143, 'd', 'Virat'}\n"
          ]
        }
      ]
    },
    {
      "cell_type": "markdown",
      "source": [
        "union operation of python sets"
      ],
      "metadata": {
        "id": "cbp6cXiPVc6N"
      }
    },
    {
      "cell_type": "code",
      "source": [
        "movies = {'khaleja', 'salaar', 'red'}\n",
        "directors = {'thirvikram', 'vanga', 'bobby'}\n",
        "heros = {'prabhas', 'ram', 'ntr'}\n",
        "\n",
        "tfi = movies.union(directors)\n",
        "print(tfi)\n",
        "\n",
        "tfi = movies | heros\n",
        "print(tfi)"
      ],
      "metadata": {
        "colab": {
          "base_uri": "https://localhost:8080/"
        },
        "id": "XY_bpzSj7bQO",
        "outputId": "26da3bcd-29c9-4107-c510-e20b9d6aca08"
      },
      "execution_count": 57,
      "outputs": [
        {
          "output_type": "stream",
          "name": "stdout",
          "text": [
            "{'khaleja', 'vanga', 'bobby', 'thirvikram', 'red', 'salaar'}\n",
            "{'khaleja', 'ram', 'prabhas', 'ntr', 'red', 'salaar'}\n"
          ]
        }
      ]
    },
    {
      "cell_type": "markdown",
      "source": [
        "intersection of sets"
      ],
      "metadata": {
        "id": "HP8bMmZUWShM"
      }
    },
    {
      "cell_type": "code",
      "source": [
        "even_numbers = {2 , 4, 6, 8}\n",
        "prime_numbers = {2, 3, 5, 7}\n",
        "\n",
        "common_numbers = even_numbers.intersection(prime_numbers)\n",
        "print(common_numbers)"
      ],
      "metadata": {
        "colab": {
          "base_uri": "https://localhost:8080/"
        },
        "id": "Phq6ZM7iV8AB",
        "outputId": "4b1498b6-cbe2-4ae6-9699-3a13b1850800"
      },
      "execution_count": 58,
      "outputs": [
        {
          "output_type": "stream",
          "name": "stdout",
          "text": [
            "{2}\n"
          ]
        }
      ]
    },
    {
      "cell_type": "code",
      "source": [
        "common_numbers.clear()\n",
        "print(common_numbers)"
      ],
      "metadata": {
        "colab": {
          "base_uri": "https://localhost:8080/"
        },
        "id": "kTBWdy6JWrqM",
        "outputId": "49a65265-2292-4c2e-cb69-8dc549c07a1e"
      },
      "execution_count": 60,
      "outputs": [
        {
          "output_type": "stream",
          "name": "stdout",
          "text": [
            "set()\n"
          ]
        }
      ]
    },
    {
      "cell_type": "markdown",
      "source": [
        "#Tuples"
      ],
      "metadata": {
        "id": "ID7KMNu3X8zX"
      }
    },
    {
      "cell_type": "markdown",
      "source": [
        "tuples indicates in ( )"
      ],
      "metadata": {
        "id": "evdvl9QEYAoK"
      }
    },
    {
      "cell_type": "code",
      "source": [
        "tup = ()\n",
        "print(tup)"
      ],
      "metadata": {
        "colab": {
          "base_uri": "https://localhost:8080/"
        },
        "id": "yBfRbXQ_YDes",
        "outputId": "8ae7bd7d-1c00-4755-b338-9411465844c8"
      },
      "execution_count": 61,
      "outputs": [
        {
          "output_type": "stream",
          "name": "stdout",
          "text": [
            "()\n"
          ]
        }
      ]
    },
    {
      "cell_type": "code",
      "source": [
        "tup = ('lsg', 'gt')\n",
        "print(tup)"
      ],
      "metadata": {
        "colab": {
          "base_uri": "https://localhost:8080/"
        },
        "id": "43_KKSF4YGjT",
        "outputId": "460b1a39-64cc-4cdd-8617-1394316aef98"
      },
      "execution_count": 62,
      "outputs": [
        {
          "output_type": "stream",
          "name": "stdout",
          "text": [
            "('lsg', 'gt')\n"
          ]
        }
      ]
    },
    {
      "cell_type": "code",
      "source": [
        "li = [2, 4, 7, 9]\n",
        "print(tuple(li))"
      ],
      "metadata": {
        "colab": {
          "base_uri": "https://localhost:8080/"
        },
        "id": "g2vU56A0YPOG",
        "outputId": "45084776-c06e-4149-a7ca-3efeb6a2277c"
      },
      "execution_count": 63,
      "outputs": [
        {
          "output_type": "stream",
          "name": "stdout",
          "text": [
            "(2, 4, 7, 9)\n"
          ]
        }
      ]
    },
    {
      "cell_type": "code",
      "source": [
        "li.append(2)\n",
        "print(tuple(li))"
      ],
      "metadata": {
        "colab": {
          "base_uri": "https://localhost:8080/"
        },
        "id": "AvhHOGfVYU-i",
        "outputId": "4923d3e0-27e3-4330-aac5-8f212c47c3a1"
      },
      "execution_count": 65,
      "outputs": [
        {
          "output_type": "stream",
          "name": "stdout",
          "text": [
            "(2, 4, 7, 9, 2, 2)\n"
          ]
        }
      ]
    },
    {
      "cell_type": "code",
      "source": [
        "tuple = li\n",
        "print(tuple)"
      ],
      "metadata": {
        "colab": {
          "base_uri": "https://localhost:8080/"
        },
        "id": "uIyznyNfYYJ6",
        "outputId": "1dce3a6e-6c7f-4ff8-856a-f1d2f9535cc2"
      },
      "execution_count": 67,
      "outputs": [
        {
          "output_type": "stream",
          "name": "stdout",
          "text": [
            "[2, 4, 7, 9, 2, 2]\n"
          ]
        }
      ]
    },
    {
      "cell_type": "code",
      "source": [
        "tuple.append(8)\n",
        "print(tuple)"
      ],
      "metadata": {
        "colab": {
          "base_uri": "https://localhost:8080/"
        },
        "id": "aOxfZ988YdR_",
        "outputId": "0fec3104-20f6-4b50-fa00-97db5fe355d9"
      },
      "execution_count": 69,
      "outputs": [
        {
          "output_type": "stream",
          "name": "stdout",
          "text": [
            "[2, 4, 7, 9, 2, 2, 8, 8]\n"
          ]
        }
      ]
    },
    {
      "cell_type": "code",
      "source": [
        "tup = li\n",
        "print(tup)"
      ],
      "metadata": {
        "colab": {
          "base_uri": "https://localhost:8080/"
        },
        "id": "YKFxDU-TYiTk",
        "outputId": "d399e2a2-8273-4a11-f18e-feb242c4aec4"
      },
      "execution_count": 70,
      "outputs": [
        {
          "output_type": "stream",
          "name": "stdout",
          "text": [
            "[2, 4, 7, 9, 2, 2, 8, 8]\n"
          ]
        }
      ]
    },
    {
      "cell_type": "code",
      "source": [
        "tup.append(3)\n",
        "print(tup)"
      ],
      "metadata": {
        "colab": {
          "base_uri": "https://localhost:8080/"
        },
        "id": "SV50XHCrYqFE",
        "outputId": "2bda3846-1a37-4cfa-c9b2-fc01e492b7c9"
      },
      "execution_count": 72,
      "outputs": [
        {
          "output_type": "stream",
          "name": "stdout",
          "text": [
            "[2, 4, 7, 9, 2, 2, 8, 8, 3, 3]\n"
          ]
        }
      ]
    },
    {
      "cell_type": "code",
      "source": [
        "tup.clear()\n",
        "print(tup)"
      ],
      "metadata": {
        "colab": {
          "base_uri": "https://localhost:8080/"
        },
        "id": "w6NSnM7HYr6B",
        "outputId": "0868a201-bcf6-42e7-89a7-eddba85ad80a"
      },
      "execution_count": 75,
      "outputs": [
        {
          "output_type": "stream",
          "name": "stdout",
          "text": [
            "[]\n"
          ]
        }
      ]
    },
    {
      "cell_type": "markdown",
      "source": [
        "creating a tuple with mixed Datatypes"
      ],
      "metadata": {
        "id": "DXXPlHBKY5Bp"
      }
    },
    {
      "cell_type": "code",
      "source": [
        "tup1 = (5, 'Welcome', 7 , 'rcb')\n",
        "print(tup1)"
      ],
      "metadata": {
        "colab": {
          "base_uri": "https://localhost:8080/"
        },
        "id": "4gX8MwttYxbq",
        "outputId": "9811ed4a-7154-4e5e-e2e4-061689f016cf"
      },
      "execution_count": 77,
      "outputs": [
        {
          "output_type": "stream",
          "name": "stdout",
          "text": [
            "(5, 'Welcome', 7, 'rcb')\n"
          ]
        }
      ]
    },
    {
      "cell_type": "code",
      "source": [
        "tup2 = (2, 'mi', 'csk', 4)\n",
        "print(tup2)"
      ],
      "metadata": {
        "colab": {
          "base_uri": "https://localhost:8080/"
        },
        "id": "iNMtqB0HZDLT",
        "outputId": "d4161d49-c922-4cf3-c522-1f58fce2d4b0"
      },
      "execution_count": 78,
      "outputs": [
        {
          "output_type": "stream",
          "name": "stdout",
          "text": [
            "(2, 'mi', 'csk', 4)\n"
          ]
        }
      ]
    },
    {
      "cell_type": "code",
      "source": [
        "tup3 = (tup1, tup2)\n",
        "print(tup3)"
      ],
      "metadata": {
        "colab": {
          "base_uri": "https://localhost:8080/"
        },
        "id": "6z1G1dIDZNRW",
        "outputId": "1bb56296-7f0e-4dde-c8f1-eefa38006ce9"
      },
      "execution_count": 80,
      "outputs": [
        {
          "output_type": "stream",
          "name": "stdout",
          "text": [
            "((5, 'Welcome', 7, 'rcb'), (2, 'mi', 'csk', 4))\n"
          ]
        }
      ]
    },
    {
      "cell_type": "code",
      "source": [
        "tup4 = (' Mi - ') * 5\n",
        "print(tup4)"
      ],
      "metadata": {
        "colab": {
          "base_uri": "https://localhost:8080/"
        },
        "id": "8aWVKv2FZQBj",
        "outputId": "6fe37ba2-98a9-4a4d-ec63-7181d58e72b5"
      },
      "execution_count": 83,
      "outputs": [
        {
          "output_type": "stream",
          "name": "stdout",
          "text": [
            " Mi -  Mi -  Mi -  Mi -  Mi - \n"
          ]
        }
      ]
    },
    {
      "cell_type": "code",
      "source": [
        "tup = ('csk')\n",
        "n = 5\n",
        "for i in range(int(n)):\n",
        "  tup = (tup,)\n",
        "  print(tup)"
      ],
      "metadata": {
        "colab": {
          "base_uri": "https://localhost:8080/"
        },
        "id": "SUHrqjNSZYg-",
        "outputId": "ad38ed6b-7a75-46cb-a979-df2480f07708"
      },
      "execution_count": 86,
      "outputs": [
        {
          "output_type": "stream",
          "name": "stdout",
          "text": [
            "('csk',)\n",
            "(('csk',),)\n",
            "((('csk',),),)\n",
            "(((('csk',),),),)\n",
            "((((('csk',),),),),)\n"
          ]
        }
      ]
    },
    {
      "cell_type": "markdown",
      "source": [
        "Python tuple basic operations\n",
        "\n",
        "accesing of python tuples\n",
        "\n",
        "concatenation of tuples\n",
        "\n",
        "slicing of tuple\n",
        "\n",
        "deleting a tuple"
      ],
      "metadata": {
        "id": "FU2uhuldZ3hv"
      }
    },
    {
      "cell_type": "code",
      "source": [
        "#Concatenation of Tuples\n",
        "\n",
        "tup6 = tup1 + tup2\n",
        "print(tup6)"
      ],
      "metadata": {
        "colab": {
          "base_uri": "https://localhost:8080/"
        },
        "id": "Er0XDCVnZua3",
        "outputId": "9cf37c03-2de1-4b19-b634-5c4b1ac78730"
      },
      "execution_count": 89,
      "outputs": [
        {
          "output_type": "stream",
          "name": "stdout",
          "text": [
            "(5, 'Welcome', 7, 'rcb', 2, 'mi', 'csk', 4)\n"
          ]
        }
      ]
    },
    {
      "cell_type": "markdown",
      "source": [
        "#Dictionaries in Python"
      ],
      "metadata": {
        "id": "aVCRCw5ke3sL"
      }
    },
    {
      "cell_type": "code",
      "source": [
        "d = {1: 'Gt', 2: 'Pbks', 3: 'Rcb', 4: 'mi'}\n",
        "print(d)"
      ],
      "metadata": {
        "colab": {
          "base_uri": "https://localhost:8080/"
        },
        "id": "XBNVsaFZawTT",
        "outputId": "f5290b91-6d6b-4cfc-c009-edea967d1649"
      },
      "execution_count": 93,
      "outputs": [
        {
          "output_type": "stream",
          "name": "stdout",
          "text": [
            "{1: 'Gt', 2: 'Pbks', 3: 'Rcb', 4: 'mi'}\n"
          ]
        }
      ]
    },
    {
      "cell_type": "code",
      "source": [
        "dic = dict( a = \"apple\", b = \"ball\", c = \"cat\")\n",
        "print(dic)"
      ],
      "metadata": {
        "colab": {
          "base_uri": "https://localhost:8080/"
        },
        "id": "UBiwhllefFaZ",
        "outputId": "88b4088a-e617-4d8b-fe26-0ec493f3fa62"
      },
      "execution_count": 94,
      "outputs": [
        {
          "output_type": "stream",
          "name": "stdout",
          "text": [
            "{'a': 'apple', 'b': 'ball', 'c': 'cat'}\n"
          ]
        }
      ]
    },
    {
      "cell_type": "code",
      "source": [
        "print(d[1])"
      ],
      "metadata": {
        "colab": {
          "base_uri": "https://localhost:8080/"
        },
        "id": "E6Q-XbN5fNyY",
        "outputId": "1ae06f29-cd39-42a4-e652-d90495f60e6e"
      },
      "execution_count": 95,
      "outputs": [
        {
          "output_type": "stream",
          "name": "stdout",
          "text": [
            "Gt\n"
          ]
        }
      ]
    },
    {
      "cell_type": "code",
      "source": [
        "print(d.get(3))"
      ],
      "metadata": {
        "colab": {
          "base_uri": "https://localhost:8080/"
        },
        "id": "xQMWJTSLfW6Z",
        "outputId": "b13c3332-9017-414d-9112-caa067e4e2eb"
      },
      "execution_count": 97,
      "outputs": [
        {
          "output_type": "stream",
          "name": "stdout",
          "text": [
            "Rcb\n"
          ]
        }
      ]
    },
    {
      "cell_type": "code",
      "source": [
        "d[5] = \"dc\"\n",
        "print(d)"
      ],
      "metadata": {
        "colab": {
          "base_uri": "https://localhost:8080/"
        },
        "id": "-Dbdcx8CfZtl",
        "outputId": "ac2e20f3-c57b-4a6d-f1a7-c27f19a16ebf"
      },
      "execution_count": 98,
      "outputs": [
        {
          "output_type": "stream",
          "name": "stdout",
          "text": [
            "{1: 'Gt', 2: 'Pbks', 3: 'Rcb', 4: 'mi', 5: 'dc'}\n"
          ]
        }
      ]
    },
    {
      "cell_type": "code",
      "source": [
        "del d[4]\n",
        "print(d)"
      ],
      "metadata": {
        "colab": {
          "base_uri": "https://localhost:8080/"
        },
        "id": "oirKA44jfhOa",
        "outputId": "3a474957-b35d-46ab-c698-ca9343dced12"
      },
      "execution_count": 101,
      "outputs": [
        {
          "output_type": "stream",
          "name": "stdout",
          "text": [
            "{1: 'Gt', 2: 'Pbks', 3: 'Rcb'}\n"
          ]
        }
      ]
    },
    {
      "cell_type": "code",
      "source": [
        "val = d.pop(3)\n",
        "print(val)"
      ],
      "metadata": {
        "colab": {
          "base_uri": "https://localhost:8080/"
        },
        "id": "zFQXiL-0fm0I",
        "outputId": "7b9adc92-7c58-4441-d893-31bae5c3645f"
      },
      "execution_count": 102,
      "outputs": [
        {
          "output_type": "stream",
          "name": "stdout",
          "text": [
            "Rcb\n"
          ]
        }
      ]
    },
    {
      "cell_type": "code",
      "source": [
        "d.clear()\n",
        "print(d)"
      ],
      "metadata": {
        "colab": {
          "base_uri": "https://localhost:8080/"
        },
        "id": "HoutJbcnfuPD",
        "outputId": "7e625378-e977-4ce8-c5c0-7c1072d1ec98"
      },
      "execution_count": 103,
      "outputs": [
        {
          "output_type": "stream",
          "name": "stdout",
          "text": [
            "{}\n"
          ]
        }
      ]
    },
    {
      "cell_type": "code",
      "source": [
        "e = {1: 'Gt', 2: 'Pbks', 3: 'Rcb', 4: 'mi'}\n",
        "\n",
        "\n",
        "for key in e:\n",
        "  print(key)\n",
        "\n",
        "\n",
        "for value in e.values():\n",
        "  print(value)\n",
        "\n",
        "\n",
        "for key, value in e.items():\n",
        "  print(f\"{key}: {value}\")"
      ],
      "metadata": {
        "colab": {
          "base_uri": "https://localhost:8080/"
        },
        "id": "aX4Rq3zOf1dW",
        "outputId": "78ca2761-c991-44b1-ab0a-b0b09334ad4d"
      },
      "execution_count": 113,
      "outputs": [
        {
          "output_type": "stream",
          "name": "stdout",
          "text": [
            "1\n",
            "2\n",
            "3\n",
            "4\n",
            "Gt\n",
            "Pbks\n",
            "Rcb\n",
            "mi\n",
            "1: Gt\n",
            "2: Pbks\n",
            "3: Rcb\n",
            "4: mi\n"
          ]
        }
      ]
    },
    {
      "cell_type": "code",
      "source": [],
      "metadata": {
        "id": "c-fdulx9f93h"
      },
      "execution_count": null,
      "outputs": []
    }
  ]
}