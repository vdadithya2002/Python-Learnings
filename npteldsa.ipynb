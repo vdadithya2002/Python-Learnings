{
  "nbformat": 4,
  "nbformat_minor": 0,
  "metadata": {
    "colab": {
      "provenance": [],
      "authorship_tag": "ABX9TyNJHcjVBXGXO5o8jOJhgniS",
      "include_colab_link": true
    },
    "kernelspec": {
      "name": "python3",
      "display_name": "Python 3"
    },
    "language_info": {
      "name": "python"
    }
  },
  "cells": [
    {
      "cell_type": "markdown",
      "metadata": {
        "id": "view-in-github",
        "colab_type": "text"
      },
      "source": [
        "<a href=\"https://colab.research.google.com/github/vdadithya2002/Python-Learnings/blob/main/npteldsa.ipynb\" target=\"_parent\"><img src=\"https://colab.research.google.com/assets/colab-badge.svg\" alt=\"Open In Colab\"/></a>"
      ]
    },
    {
      "cell_type": "code",
      "execution_count": 1,
      "metadata": {
        "colab": {
          "base_uri": "https://localhost:8080/"
        },
        "id": "7QbgazIUsRfG",
        "outputId": "a468799d-7036-4eac-90ea-fd640f24fe52"
      },
      "outputs": [
        {
          "output_type": "execute_result",
          "data": {
            "text/plain": [
              "5"
            ]
          },
          "metadata": {},
          "execution_count": 1
        }
      ],
      "source": [
        "def g(y):\n",
        "  b = 0\n",
        "  while y >= 3:\n",
        "    (y,b) = (y/3, b+1)\n",
        "  return(b)\n",
        "\n",
        "g(728)"
      ]
    },
    {
      "cell_type": "code",
      "source": [
        "def f(n):\n",
        "  s = 0\n",
        "  for i in range(2, n):\n",
        "    if n%i == 0 and i%2 == 1:\n",
        "      s = s+1\n",
        "  return(s)\n",
        "\n",
        "result = f(90) - f(89)\n",
        "print(result)"
      ],
      "metadata": {
        "colab": {
          "base_uri": "https://localhost:8080/"
        },
        "id": "5_erR2jesrk6",
        "outputId": "11cbf889-055a-4436-be98-552b10fc3800"
      },
      "execution_count": 3,
      "outputs": [
        {
          "output_type": "stream",
          "name": "stdout",
          "text": [
            "5\n"
          ]
        }
      ]
    },
    {
      "cell_type": "code",
      "source": [
        "def h(n):\n",
        "  s = True\n",
        "  for i in range(1, n+1):\n",
        "    if i*i == n:\n",
        "      s = False\n",
        "  return(s)\n",
        "\n",
        "h(36)"
      ],
      "metadata": {
        "colab": {
          "base_uri": "https://localhost:8080/"
        },
        "id": "6MypbgzbtRCo",
        "outputId": "619eb3e1-3a70-4904-ad2a-ec9a60cd19e6"
      },
      "execution_count": 8,
      "outputs": [
        {
          "output_type": "execute_result",
          "data": {
            "text/plain": [
              "False"
            ]
          },
          "metadata": {},
          "execution_count": 8
        }
      ]
    },
    {
      "cell_type": "code",
      "source": [],
      "metadata": {
        "id": "a4krm6dKuKPl"
      },
      "execution_count": null,
      "outputs": []
    }
  ]
}