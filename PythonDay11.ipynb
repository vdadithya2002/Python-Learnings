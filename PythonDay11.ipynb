{
  "nbformat": 4,
  "nbformat_minor": 0,
  "metadata": {
    "colab": {
      "provenance": [],
      "authorship_tag": "ABX9TyMgBjpK0ITzB43mfY2VMzYA",
      "include_colab_link": true
    },
    "kernelspec": {
      "name": "python3",
      "display_name": "Python 3"
    },
    "language_info": {
      "name": "python"
    }
  },
  "cells": [
    {
      "cell_type": "markdown",
      "metadata": {
        "id": "view-in-github",
        "colab_type": "text"
      },
      "source": [
        "<a href=\"https://colab.research.google.com/github/vdadithya2002/Python-Learnings/blob/main/PythonDay11.ipynb\" target=\"_parent\"><img src=\"https://colab.research.google.com/assets/colab-badge.svg\" alt=\"Open In Colab\"/></a>"
      ]
    },
    {
      "cell_type": "markdown",
      "source": [
        "#Exception Handling"
      ],
      "metadata": {
        "id": "aXL_L0krI_pN"
      }
    },
    {
      "cell_type": "markdown",
      "source": [
        "Basic Exception Handling with try and expect"
      ],
      "metadata": {
        "id": "6ms4A9E2JMcn"
      }
    },
    {
      "cell_type": "code",
      "execution_count": 6,
      "metadata": {
        "colab": {
          "base_uri": "https://localhost:8080/"
        },
        "id": "5gDy7-thFe-4",
        "outputId": "169e99d3-4284-4285-80e8-bb8c0dc3cab7"
      },
      "outputs": [
        {
          "output_type": "stream",
          "name": "stdout",
          "text": [
            "Enter a Number: y\n",
            "That's not a valid Number!\n"
          ]
        }
      ],
      "source": [
        "try:\n",
        "  x =int(input(\"Enter a Number: \"))\n",
        "  result = 10 / x\n",
        "  print(\"Result: \", result)\n",
        "except ZeroDivisionError:\n",
        "    print(\"You cant divide by zero!\")\n",
        "except ValueError:\n",
        "  print(\"That's not a valid Number!\")\n",
        "\n",
        "\n"
      ]
    },
    {
      "cell_type": "markdown",
      "source": [
        "using else and finally for the same program"
      ],
      "metadata": {
        "id": "wstGfFtrJ7kD"
      }
    },
    {
      "cell_type": "code",
      "source": [
        "try:\n",
        "  x = int(input(\"Enter a number: \"))\n",
        "  print(\"Result: \", 10 / x)\n",
        "except ZeroDivisionError:\n",
        "  print(\"Error: Division by zero.\")\n",
        "else:\n",
        "  print(\"Division Suceesful.\")\n",
        "finally:\n",
        "  print(\"Program Ended\")\n",
        "\n",
        "\n"
      ],
      "metadata": {
        "colab": {
          "base_uri": "https://localhost:8080/"
        },
        "id": "jeRruEN0JE-a",
        "outputId": "76e71543-8d65-4032-b258-4295d2f34730"
      },
      "execution_count": 8,
      "outputs": [
        {
          "output_type": "stream",
          "name": "stdout",
          "text": [
            "Enter a number: 3\n",
            "Result:  3.3333333333333335\n",
            "Division Suceesful.\n",
            "Program Ended\n"
          ]
        }
      ]
    },
    {
      "cell_type": "markdown",
      "source": [
        "Catching Mutliple Exceptions Together"
      ],
      "metadata": {
        "id": "-nfTuPw3Kdwa"
      }
    },
    {
      "cell_type": "code",
      "source": [
        "try:\n",
        "  a = int(input(\"Enter a Number: \"))\n",
        "  b = 10 / a\n",
        "except (ValueError, ZeroDivisionError) as e:\n",
        "  print(\"An error Occurred: \", e)\n",
        "else:\n",
        "  print(\"Program successful\")"
      ],
      "metadata": {
        "colab": {
          "base_uri": "https://localhost:8080/"
        },
        "id": "PcBSB5Q-KUD6",
        "outputId": "1072a2e2-4330-469d-84ab-d9d255cb8eb8"
      },
      "execution_count": 11,
      "outputs": [
        {
          "output_type": "stream",
          "name": "stdout",
          "text": [
            "Enter a Number: 0\n",
            "An error Occurred:  division by zero\n"
          ]
        }
      ]
    },
    {
      "cell_type": "markdown",
      "source": [
        "Custom Exceptions"
      ],
      "metadata": {
        "id": "u6mYlqE8K-21"
      }
    },
    {
      "cell_type": "code",
      "source": [
        "class NegativeNumberError(Exception):\n",
        "  pass\n",
        "\n",
        "x = int(input(\"Enter a positive Number: \"))\n",
        "if x < 0:\n",
        "  raise NegativeNumberError(\"Negative Number entered! Correct it\")\n",
        "else:\n",
        "  print(\"Good Job!\")"
      ],
      "metadata": {
        "colab": {
          "base_uri": "https://localhost:8080/"
        },
        "id": "UmxJal_7KwJh",
        "outputId": "dba6ce35-61f6-4047-eddc-3f64b09c38ad"
      },
      "execution_count": 14,
      "outputs": [
        {
          "output_type": "stream",
          "name": "stdout",
          "text": [
            "Enter a positive Number: 5\n",
            "Good Job!\n"
          ]
        }
      ]
    },
    {
      "cell_type": "markdown",
      "source": [
        "Real use case - file reading"
      ],
      "metadata": {
        "id": "_u3Cv_gXLhWw"
      }
    },
    {
      "cell_type": "code",
      "source": [
        "try:\n",
        "  with open(\"Data.txt\", \"r\") as f:\n",
        "    print(f.read())\n",
        "except FileNotFoundError:\n",
        "  print(\"The file does not exist!\")"
      ],
      "metadata": {
        "colab": {
          "base_uri": "https://localhost:8080/"
        },
        "id": "mAGEu1igLWU5",
        "outputId": "0c0fe630-4d1d-4816-9010-8358c53715f1"
      },
      "execution_count": 15,
      "outputs": [
        {
          "output_type": "stream",
          "name": "stdout",
          "text": [
            "The file does not exist!\n"
          ]
        }
      ]
    },
    {
      "cell_type": "markdown",
      "source": [
        "Practice Questions\n"
      ],
      "metadata": {
        "id": "XCQqZAlxOhMU"
      }
    },
    {
      "cell_type": "code",
      "source": [
        "class InvalidAgeError(Exception):\n",
        "  pass\n",
        "\n",
        "a = int(input(\"Enter Ur Age: \"))\n",
        "if a < 0:\n",
        "  raise InvalidAgeError(\"Invalid Age entered! correct it\")\n",
        "else :\n",
        "  print(\"Forward to next step\")\n"
      ],
      "metadata": {
        "colab": {
          "base_uri": "https://localhost:8080/"
        },
        "id": "YfFG76xtOf3M",
        "outputId": "b13e4dab-d669-4389-83d1-fb2b12a2e18c"
      },
      "execution_count": 17,
      "outputs": [
        {
          "output_type": "stream",
          "name": "stdout",
          "text": [
            "Enter Ur Age: 9\n",
            "Forward to next step\n"
          ]
        }
      ]
    },
    {
      "cell_type": "code",
      "source": [
        "try:\n",
        "    a = int(input(\"Enter Ur Age: \"))\n",
        "    if a < 0:\n",
        "        raise InvalidAgeError(\"Invalid Age entered! correct it\")\n",
        "    else:\n",
        "        print(\"Forward to next step\")\n",
        "except InvalidAgeError as e:\n",
        "    print(\"Custom Error:\", e)\n",
        "except ValueError:\n",
        "    print(\"Please enter a valid number.\")\n"
      ],
      "metadata": {
        "colab": {
          "base_uri": "https://localhost:8080/"
        },
        "id": "5Ck-VCUzPb0G",
        "outputId": "11203d72-beb6-4127-853c-7d5902408b69"
      },
      "execution_count": 22,
      "outputs": [
        {
          "output_type": "stream",
          "name": "stdout",
          "text": [
            "Enter Ur Age: 3\n",
            "Forward to next step\n"
          ]
        }
      ]
    },
    {
      "cell_type": "code",
      "source": [
        "class ZeroorNegativeMarks(Exception):\n",
        "  pass\n",
        "try:\n",
        "  marks = int(input(\"Enter Your Marks: \"))\n",
        "  if marks <=0:\n",
        "    raise ZeroorNegativeMarks(\"Marks must be greater than zero.\")\n",
        "  print(\"Marks accepted\")\n",
        "except ZeroorNegativeMarks as e:\n",
        "  print(\"Error.\", e)\n",
        "except ValueError:\n",
        "  print(\"Pleaase enter a valid numbera.\")\n",
        "finally:\n",
        "  print(\"Execution completed\")\n",
        "\n"
      ],
      "metadata": {
        "colab": {
          "base_uri": "https://localhost:8080/"
        },
        "id": "_1NLWWCqQKTm",
        "outputId": "1521a35b-338a-40cc-e0b2-83a8a8c6b96b"
      },
      "execution_count": 25,
      "outputs": [
        {
          "output_type": "stream",
          "name": "stdout",
          "text": [
            "Enter Your Marks: 0\n",
            "Error. Marks must be greater than zero.\n",
            "Execution completed\n"
          ]
        }
      ]
    },
    {
      "cell_type": "code",
      "source": [],
      "metadata": {
        "id": "EGnMwunoSbFC"
      },
      "execution_count": null,
      "outputs": []
    }
  ]
}