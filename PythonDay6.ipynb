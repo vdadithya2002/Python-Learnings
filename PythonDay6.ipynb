{
  "nbformat": 4,
  "nbformat_minor": 0,
  "metadata": {
    "colab": {
      "provenance": [],
      "authorship_tag": "ABX9TyM7LfSIxI2jOp8R3e6+Z8YX",
      "include_colab_link": true
    },
    "kernelspec": {
      "name": "python3",
      "display_name": "Python 3"
    },
    "language_info": {
      "name": "python"
    }
  },
  "cells": [
    {
      "cell_type": "markdown",
      "metadata": {
        "id": "view-in-github",
        "colab_type": "text"
      },
      "source": [
        "<a href=\"https://colab.research.google.com/github/vdadithya2002/Python-Learnings/blob/main/PythonDay6.ipynb\" target=\"_parent\"><img src=\"https://colab.research.google.com/assets/colab-badge.svg\" alt=\"Open In Colab\"/></a>"
      ]
    },
    {
      "cell_type": "markdown",
      "source": [
        "#**Python** **Functions**"
      ],
      "metadata": {
        "id": "RngU7HfBdCfy"
      }
    },
    {
      "cell_type": "code",
      "source": [
        "def ipl():\n",
        "  print(\"Chennai Super Kings\")\n",
        "\n",
        "\n",
        "ipl()"
      ],
      "metadata": {
        "colab": {
          "base_uri": "https://localhost:8080/"
        },
        "id": "wXvBrIDtdMak",
        "outputId": "6fcfcddb-a158-4f12-fded-b471c9e131f5"
      },
      "execution_count": 3,
      "outputs": [
        {
          "output_type": "stream",
          "name": "stdout",
          "text": [
            "Chennai Super Kings\n"
          ]
        }
      ]
    },
    {
      "cell_type": "markdown",
      "source": [
        "calling function with parameters"
      ],
      "metadata": {
        "id": "IEnGuBmPdlU5"
      }
    },
    {
      "cell_type": "code",
      "source": [
        "def ipl(team_name1 , team_name2, margin):\n",
        "  print(f\"{team_name1} won the match\")\n",
        "  print(f\"{team_name2} loss the match\")\n",
        "  print(f\"by {margin}\")\n",
        "\n",
        "\n",
        "\n",
        "ipl(\"sunrisers_hyderabad\", \"Koklata knight risers\", \"110 runs\")"
      ],
      "metadata": {
        "colab": {
          "base_uri": "https://localhost:8080/"
        },
        "id": "2VzGCeApdn15",
        "outputId": "c6d98110-3c84-46b3-b5f3-9c36893a7275"
      },
      "execution_count": 6,
      "outputs": [
        {
          "output_type": "stream",
          "name": "stdout",
          "text": [
            "sunrisers_hyderabad won the match\n",
            "Koklata knight risers loss the match\n",
            "by 110 runs\n"
          ]
        }
      ]
    },
    {
      "cell_type": "markdown",
      "source": [
        "calling function using return function"
      ],
      "metadata": {
        "id": "kK38I12HeWTV"
      }
    },
    {
      "cell_type": "code",
      "source": [
        "def is_prime(n):\n",
        "  if n in [2,3,5,7]:\n",
        "    return True\n",
        "  if (n == 1) or (n % 2 == 0):\n",
        "    return False\n",
        "\n",
        "  r = 3\n",
        "  while r * r <= n:\n",
        "    if n % r == 0:\n",
        "      return False\n",
        "    r += 2\n",
        "  return True\n",
        "\n",
        "\n",
        "print(is_prime(78))\n",
        "print(is_prime(8))"
      ],
      "metadata": {
        "colab": {
          "base_uri": "https://localhost:8080/"
        },
        "id": "ohuLBVMUeY2q",
        "outputId": "960c3045-717e-4416-ff40-c4990859d7e1"
      },
      "execution_count": 8,
      "outputs": [
        {
          "output_type": "stream",
          "name": "stdout",
          "text": [
            "False\n",
            "False\n"
          ]
        }
      ]
    },
    {
      "cell_type": "markdown",
      "source": [
        "types of python function argumnents"
      ],
      "metadata": {
        "id": "OA8mD_yjjeUz"
      }
    },
    {
      "cell_type": "code",
      "source": [
        "def student(firstname, lastname):\n",
        "  print(firstname, lastname)\n",
        "\n",
        "student('vijaya', 'durga')\n",
        "\n",
        "student(lastname= 'durga', firstname='vijaya')"
      ],
      "metadata": {
        "colab": {
          "base_uri": "https://localhost:8080/"
        },
        "id": "DqP8P2g4e8kl",
        "outputId": "6d6638b8-8179-4e30-f0d1-14c965861f56"
      },
      "execution_count": 11,
      "outputs": [
        {
          "output_type": "stream",
          "name": "stdout",
          "text": [
            "vijaya durga\n",
            "vijaya durga\n"
          ]
        }
      ]
    },
    {
      "cell_type": "code",
      "source": [
        "def nameAge(name, age):\n",
        "  print(\"hi, I am \", name)\n",
        "  print(\"my age is \", age)\n",
        "\n",
        "nameAge(\"Adithya\", 22)\n",
        "\n"
      ],
      "metadata": {
        "colab": {
          "base_uri": "https://localhost:8080/"
        },
        "id": "mJXRea08jxnD",
        "outputId": "4fbd42a9-3771-4d3a-8e8e-afceb30da4a2"
      },
      "execution_count": 12,
      "outputs": [
        {
          "output_type": "stream",
          "name": "stdout",
          "text": [
            "hi, I am  Adithya\n",
            "my age is  22\n"
          ]
        }
      ]
    },
    {
      "cell_type": "code",
      "source": [
        "def Myfun(*argv):\n",
        "  for arg in argv:\n",
        "    print(arg)\n",
        "\n",
        "Myfun('Hello', 'Welcome', 'to', 'myworld')"
      ],
      "metadata": {
        "colab": {
          "base_uri": "https://localhost:8080/"
        },
        "id": "ypow1S9JksXk",
        "outputId": "c1e4f581-d0cc-48a3-8849-3d2f37a6fca6"
      },
      "execution_count": 14,
      "outputs": [
        {
          "output_type": "stream",
          "name": "stdout",
          "text": [
            "Hello\n",
            "Welcome\n",
            "to\n",
            "myworld\n"
          ]
        }
      ]
    },
    {
      "cell_type": "code",
      "source": [
        "def Myfun(**kwargs):\n",
        "  \"\"\"\n",
        "  this function is used to call the keyword arguments\n",
        "\n",
        "  \"\"\"\n",
        "\n",
        "  for key, value in kwargs.items():\n",
        "    print(\"%s == %s\" % (key, value))\n",
        "\n",
        "Myfun(first='Vijaya', mid='Durga', last='Adithya')"
      ],
      "metadata": {
        "colab": {
          "base_uri": "https://localhost:8080/"
        },
        "id": "L-96uwtolK01",
        "outputId": "4c7f0828-94ec-405b-c0a5-ff0b39abdc4e"
      },
      "execution_count": 18,
      "outputs": [
        {
          "output_type": "stream",
          "name": "stdout",
          "text": [
            "first == Vijaya\n",
            "mid == Durga\n",
            "last == Adithya\n"
          ]
        }
      ]
    },
    {
      "cell_type": "code",
      "source": [
        "print(Myfun.__doc__)"
      ],
      "metadata": {
        "colab": {
          "base_uri": "https://localhost:8080/"
        },
        "id": "Z0D8H2JrlkCU",
        "outputId": "ab9b2f5a-3ca0-4701-eed1-2c7d1615680c"
      },
      "execution_count": 19,
      "outputs": [
        {
          "output_type": "stream",
          "name": "stdout",
          "text": [
            "\n",
            "  this function is used to call the keyword arguments\n",
            "\n",
            "  \n"
          ]
        }
      ]
    },
    {
      "cell_type": "markdown",
      "source": [
        "nested function"
      ],
      "metadata": {
        "id": "8CvjUjBHmKFZ"
      }
    },
    {
      "cell_type": "code",
      "source": [
        "def security():\n",
        "  name = 'p.vijaya Durga adithya'\n",
        "  age = 22\n",
        "  location = 'hyderabad'\n",
        "\n",
        "\n",
        "  def unlock():\n",
        "    print(f\"name is {name} and age is {age} location is {location}\")\n",
        "\n",
        "  unlock()\n",
        "\n",
        "security()\n"
      ],
      "metadata": {
        "colab": {
          "base_uri": "https://localhost:8080/"
        },
        "id": "xLDaw9IkmLmq",
        "outputId": "4e705525-85db-40d9-d9d3-f6de3e8de45a"
      },
      "execution_count": 25,
      "outputs": [
        {
          "output_type": "stream",
          "name": "stdout",
          "text": [
            "name is p.vijaya Durga adithya and age is 22 location is hyderabad\n"
          ]
        }
      ]
    },
    {
      "cell_type": "markdown",
      "source": [
        "pratice problems"
      ],
      "metadata": {
        "id": "karFaTb8961t"
      }
    },
    {
      "cell_type": "markdown",
      "source": [
        "check if a number is even or odd"
      ],
      "metadata": {
        "id": "JpEdT23v996H"
      }
    },
    {
      "cell_type": "code",
      "source": [
        "def even_odd(g):\n",
        "  if g % 2 == 0:\n",
        "    return \"Even\"\n",
        "  else:\n",
        "    return \"Odd\"\n",
        "\n",
        "print(even_odd(5))\n",
        "print(even_odd(2))"
      ],
      "metadata": {
        "colab": {
          "base_uri": "https://localhost:8080/"
        },
        "id": "jFgn-8U4nObv",
        "outputId": "a3484c9d-f0fe-4ba5-b9fb-4dc02c4a3fbf"
      },
      "execution_count": 30,
      "outputs": [
        {
          "output_type": "stream",
          "name": "stdout",
          "text": [
            "Odd\n",
            "Even\n"
          ]
        }
      ]
    },
    {
      "cell_type": "markdown",
      "source": [
        "find maximum of 3 numbers"
      ],
      "metadata": {
        "id": "TI1_a-Od-kOO"
      }
    },
    {
      "cell_type": "code",
      "source": [
        "def maximum(a,b,c):\n",
        "  return max(a,b,c)\n",
        "\n",
        "\n",
        "print(maximum(3,1,9))"
      ],
      "metadata": {
        "colab": {
          "base_uri": "https://localhost:8080/"
        },
        "id": "6mSsbcLo-mHa",
        "outputId": "4b1ed3f1-6aa6-4d53-e507-b6522207b23b"
      },
      "execution_count": 31,
      "outputs": [
        {
          "output_type": "stream",
          "name": "stdout",
          "text": [
            "9\n"
          ]
        }
      ]
    },
    {
      "cell_type": "markdown",
      "source": [
        "Factorial of a number"
      ],
      "metadata": {
        "id": "mO4Ke8lG-xYt"
      }
    },
    {
      "cell_type": "code",
      "source": [
        "def factorial(n):\n",
        "  if n == 0 or n == 1:\n",
        "    return 1\n",
        "\n",
        "  return n * factorial(n-1)\n",
        "\n",
        "print(factorial(9))\n"
      ],
      "metadata": {
        "colab": {
          "base_uri": "https://localhost:8080/"
        },
        "id": "6TzIwmTS-zD-",
        "outputId": "e0282ec5-7804-4fa8-f691-cc51273c50ec"
      },
      "execution_count": 32,
      "outputs": [
        {
          "output_type": "stream",
          "name": "stdout",
          "text": [
            "362880\n"
          ]
        }
      ]
    },
    {
      "cell_type": "markdown",
      "source": [
        "Average of numbers using *args"
      ],
      "metadata": {
        "id": "Q-8m072b_Luu"
      }
    },
    {
      "cell_type": "code",
      "source": [
        "def average(*numbers):\n",
        "  total = sum(numbers)\n",
        "  count = len(numbers)\n",
        "\n",
        "  return total / count\n",
        "\n",
        "print(f\"average of numbers is {average(24,1,16,10)}\")"
      ],
      "metadata": {
        "colab": {
          "base_uri": "https://localhost:8080/"
        },
        "id": "Uy22yHyt_OKR",
        "outputId": "e47d6579-4ce7-475c-94f0-d7427e5f75d5"
      },
      "execution_count": 34,
      "outputs": [
        {
          "output_type": "stream",
          "name": "stdout",
          "text": [
            "average of numbers is 12.75\n"
          ]
        }
      ]
    }
  ]
}