{
  "nbformat": 4,
  "nbformat_minor": 0,
  "metadata": {
    "colab": {
      "provenance": [],
      "authorship_tag": "ABX9TyOHkkYtqFXmMg6FJokzICEM",
      "include_colab_link": true
    },
    "kernelspec": {
      "name": "python3",
      "display_name": "Python 3"
    },
    "language_info": {
      "name": "python"
    }
  },
  "cells": [
    {
      "cell_type": "markdown",
      "metadata": {
        "id": "view-in-github",
        "colab_type": "text"
      },
      "source": [
        "<a href=\"https://colab.research.google.com/github/vdadithya2002/Python-Learnings/blob/main/PythonDay9.ipynb\" target=\"_parent\"><img src=\"https://colab.research.google.com/assets/colab-badge.svg\" alt=\"Open In Colab\"/></a>"
      ]
    },
    {
      "cell_type": "markdown",
      "source": [
        "#**OOPs**"
      ],
      "metadata": {
        "id": "1k_G7ORwZQ__"
      }
    },
    {
      "cell_type": "code",
      "execution_count": 2,
      "metadata": {
        "colab": {
          "base_uri": "https://localhost:8080/"
        },
        "id": "pLgqeElYY87T",
        "outputId": "d390d23f-9674-4a92-cab3-c54f44934e16"
      },
      "outputs": [
        {
          "output_type": "stream",
          "name": "stdout",
          "text": [
            "Name: Aditya, Age: 22\n"
          ]
        }
      ],
      "source": [
        "class Student:\n",
        "  def __init__(self, name, age):\n",
        "    self.name = name\n",
        "    self.age = age\n",
        "\n",
        "  def display_info(self):\n",
        "    print(f\"Name: {self.name}, Age: {self.age}\")\n",
        "\n",
        "student1 = Student(\"Aditya\", 22)\n",
        "\n",
        "student1.display_info()"
      ]
    },
    {
      "cell_type": "markdown",
      "source": [
        "Example of Theatre"
      ],
      "metadata": {
        "id": "GDQhTicUqOGi"
      }
    },
    {
      "cell_type": "code",
      "source": [
        "\n",
        "class Theatre:\n",
        "  def __init__(self, name, capacity, current_movie):\n",
        "    self.name = name\n",
        "    self.capacity = capacity\n",
        "    self.current_movie = current_movie\n",
        "\n",
        "  def theatre_info(self):\n",
        "    print(f\"Theatre name is {self.name} and capacity is {self.capacity} and current movie playing is {self.current_movie}\")\n",
        "\n",
        "theatre1 = Theatre(\"Vishwanath 70 mm\", 1200, \"Varsham\")\n",
        "theatre1.theatre_info()"
      ],
      "metadata": {
        "colab": {
          "base_uri": "https://localhost:8080/"
        },
        "id": "pfl5qvZRprVg",
        "outputId": "8abd58e2-dad3-447c-ee4d-60fb0a64892d"
      },
      "execution_count": 3,
      "outputs": [
        {
          "output_type": "stream",
          "name": "stdout",
          "text": [
            "Theatre name is Vishwanath 70 mm and capacity is 1200 and current movie playing is Varsham\n"
          ]
        }
      ]
    },
    {
      "cell_type": "markdown",
      "source": [
        "Simple Bank Account"
      ],
      "metadata": {
        "id": "iiUy56jjrIrK"
      }
    },
    {
      "cell_type": "code",
      "source": [
        "class BankAccount:\n",
        "  def __init__(self, name, balance):\n",
        "    self.name = name\n",
        "    self.balance = balance\n",
        "\n",
        "  def deposit(self, amount):\n",
        "    self.balance += amount\n",
        "\n",
        "  def show_balance(self):\n",
        "    print(f\"{self.name}'s Blanace:$ {self.balance} \")\n",
        "\n",
        "account1 = BankAccount(\"Aditya\", 1200)\n",
        "account1.show_balance()\n",
        "\n",
        "account1.deposit(200)\n",
        "\n",
        "account1.show_balance()\n"
      ],
      "metadata": {
        "colab": {
          "base_uri": "https://localhost:8080/"
        },
        "id": "9d6lX-6_rEc5",
        "outputId": "05fab0cc-2e71-43ba-a431-48ba07f0af6a"
      },
      "execution_count": 5,
      "outputs": [
        {
          "output_type": "stream",
          "name": "stdout",
          "text": [
            "Aditya's Blanace:$ 1200 \n",
            "Aditya's Blanace:$ 1400 \n"
          ]
        }
      ]
    },
    {
      "cell_type": "code",
      "source": [],
      "metadata": {
        "id": "mY8ljBlprzN3"
      },
      "execution_count": null,
      "outputs": []
    }
  ]
}