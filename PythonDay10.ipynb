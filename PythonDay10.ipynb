{
  "nbformat": 4,
  "nbformat_minor": 0,
  "metadata": {
    "colab": {
      "provenance": [],
      "authorship_tag": "ABX9TyNMxQuV/Lvc551IaS95/Y9h",
      "include_colab_link": true
    },
    "kernelspec": {
      "name": "python3",
      "display_name": "Python 3"
    },
    "language_info": {
      "name": "python"
    }
  },
  "cells": [
    {
      "cell_type": "markdown",
      "metadata": {
        "id": "view-in-github",
        "colab_type": "text"
      },
      "source": [
        "<a href=\"https://colab.research.google.com/github/vdadithya2002/Python-Learnings/blob/main/PythonDay10.ipynb\" target=\"_parent\"><img src=\"https://colab.research.google.com/assets/colab-badge.svg\" alt=\"Open In Colab\"/></a>"
      ]
    },
    {
      "cell_type": "markdown",
      "source": [
        "#inheritance\n"
      ],
      "metadata": {
        "id": "m2J_bHPhdrNj"
      }
    },
    {
      "cell_type": "markdown",
      "source": [
        "Inheritance allows a class (child/derived class) to reuse the code (methods & attributes) of another class (parent/base class).\n"
      ],
      "metadata": {
        "id": "sS04-7flhIRu"
      }
    },
    {
      "cell_type": "code",
      "execution_count": 6,
      "metadata": {
        "id": "ffhoyujzcZOB",
        "colab": {
          "base_uri": "https://localhost:8080/"
        },
        "outputId": "2ca25a1b-0825-4936-df65-b2565d23c783"
      },
      "outputs": [
        {
          "output_type": "stream",
          "name": "stdout",
          "text": [
            "Dog Barks\n",
            "Animal makes an sound\n"
          ]
        }
      ],
      "source": [
        "class Animal:\n",
        "  def sound(self):\n",
        "    print(\"Animal makes an sound\")\n",
        "\n",
        "class Dog(Animal):\n",
        "  def bark(self):\n",
        "    print(\"Dog Barks\")\n",
        "\n",
        "# Create an instance of the Dog class\n",
        "d = Dog()\n",
        "\n",
        "d.bark()\n",
        "d.sound()"
      ]
    },
    {
      "cell_type": "markdown",
      "source": [
        "Overriding methods"
      ],
      "metadata": {
        "id": "BL5l3SIYsHMY"
      }
    },
    {
      "cell_type": "code",
      "source": [
        "class Animal:\n",
        "  def sound(self):\n",
        "    print(\"some generic animal sound\")\n",
        "\n",
        "\n",
        "\n",
        "class Cat(Animal):\n",
        "  def sound(self):\n",
        "    print(\"Meow\")\n",
        "\n",
        "\n",
        "c = Cat()\n",
        "\n",
        "c.sound()\n"
      ],
      "metadata": {
        "colab": {
          "base_uri": "https://localhost:8080/"
        },
        "id": "t-hjS-7grkWK",
        "outputId": "fd38c7ed-02dc-44a4-d482-ff7b5793c9b7"
      },
      "execution_count": 7,
      "outputs": [
        {
          "output_type": "stream",
          "name": "stdout",
          "text": [
            "Meow\n"
          ]
        }
      ]
    },
    {
      "cell_type": "markdown",
      "source": [
        "Using Super keyword to call the parent constructor"
      ],
      "metadata": {
        "id": "tfdOHWC9szWF"
      }
    },
    {
      "cell_type": "code",
      "source": [
        "class Student:\n",
        "  def __init__(self, name):\n",
        "    self.name = name\n",
        "\n",
        "  def show(self):\n",
        "    print(f\"Student Name: {self.name}\")\n",
        "\n",
        "\n",
        "class Grade(Student):\n",
        "  def __init__(self, name, grade):\n",
        "     super().__init__(name)\n",
        "     self.grade = grade\n",
        "\n",
        "\n",
        "\n",
        "  def show(self):\n",
        "      super().show()\n",
        "      print(f\"Grade of Student is : {self.grade}\")\n",
        "\n",
        "\n",
        "\n",
        "\n",
        "s = Grade(\"Aditya\", \"A+\")\n",
        "\n",
        "s.show()\n",
        "\n",
        "\n",
        "\n",
        "\n"
      ],
      "metadata": {
        "colab": {
          "base_uri": "https://localhost:8080/"
        },
        "id": "k3bxxQI3sqzW",
        "outputId": "7eec9b40-9f12-4f17-9a30-3aa27448a945"
      },
      "execution_count": 19,
      "outputs": [
        {
          "output_type": "stream",
          "name": "stdout",
          "text": [
            "Student Name: Aditya\n",
            "Grade of Student is : A+\n"
          ]
        }
      ]
    },
    {
      "cell_type": "code",
      "source": [
        "class Vehicle:\n",
        "    def __init__(self, name, model, year):\n",
        "        self.name = name\n",
        "        self.model = model\n",
        "        self.year = year\n",
        "\n",
        "    def info(self):\n",
        "        print(f\"The vehicle name is {self.name}, model is {self.model}, and was bought in {self.year}\")\n",
        "\n",
        "class Car(Vehicle):\n",
        "    def __init__(self, name, model, year):\n",
        "        super().__init__(name, model, year)  # Call parent constructor\n",
        "\n",
        "    def carinfo(self):\n",
        "        print(f\"The car is a {self.name} from {self.year}\")\n",
        "\n",
        "class Bike(Vehicle):\n",
        "    def __init__(self, name, model, year):\n",
        "        super().__init__(name, model, year)  # Call parent constructor\n",
        "\n",
        "    def bikeinfo(self):\n",
        "        print(f\"The bike is a {self.name} from {self.year}\")\n",
        "\n",
        "# Creating Car and Bike objects with proper arguments\n",
        "v = Car(\"Honda\", \"Civic\", 2012)\n",
        "v.carinfo()\n",
        "v.info()\n",
        "\n",
        "e = Bike(\"Yamaha\", \"FZ\", 2015)\n",
        "e.bikeinfo()\n",
        "e.info()\n"
      ],
      "metadata": {
        "colab": {
          "base_uri": "https://localhost:8080/"
        },
        "id": "mvONCS2ut41d",
        "outputId": "4ccc6d33-7499-4f4b-c8ef-f8f49c83a30e"
      },
      "execution_count": 28,
      "outputs": [
        {
          "output_type": "stream",
          "name": "stdout",
          "text": [
            "The car is a Honda from 2012\n",
            "The vehicle name is Honda, model is Civic, and was bought in 2012\n",
            "The bike is a Yamaha from 2015\n",
            "The vehicle name is Yamaha, model is FZ, and was bought in 2015\n"
          ]
        }
      ]
    },
    {
      "cell_type": "markdown",
      "source": [
        "#Polymorphsim|"
      ],
      "metadata": {
        "id": "63Rie7CUyaG4"
      }
    },
    {
      "cell_type": "markdown",
      "source": [
        "Duck typing"
      ],
      "metadata": {
        "id": "Yr-P88j5mbaV"
      }
    },
    {
      "cell_type": "code",
      "source": [
        "class Cat:\n",
        "  def sound(self):\n",
        "    print('Meow')\n",
        "class Dog:\n",
        "  def sound(self):\n",
        "    print('bark')\n",
        "\n",
        "def make_sound(animal):\n",
        "  animal.sound()\n",
        "\n",
        "\n",
        "c = Cat()\n",
        "d = Dog()\n",
        "\n",
        "make_sound(c)\n",
        "make_sound(d)\n",
        "\n"
      ],
      "metadata": {
        "colab": {
          "base_uri": "https://localhost:8080/"
        },
        "id": "5N3A1Fs5vE8P",
        "outputId": "b7b2fa27-f605-423a-ecaf-bb93e3226452"
      },
      "execution_count": 2,
      "outputs": [
        {
          "output_type": "stream",
          "name": "stdout",
          "text": [
            "Meow\n",
            "bark\n"
          ]
        }
      ]
    },
    {
      "cell_type": "markdown",
      "source": [
        "Method Overriding"
      ],
      "metadata": {
        "id": "lw_2pxcKnZko"
      }
    },
    {
      "cell_type": "code",
      "source": [
        "class Vehicle:\n",
        "  def start(self):\n",
        "    print(\"Starting vehicle\")\n",
        "\n",
        "class Car(Vehicle):\n",
        "  def start(self):\n",
        "    print('Starting car with a key...')\n",
        "\n",
        "class Bike(Vehicle):\n",
        "  def start(self):\n",
        "    print(\"Starting Bike with a button.....\")\n",
        "\n",
        "for v in (Car(), Bike()):\n",
        "  v.start()"
      ],
      "metadata": {
        "colab": {
          "base_uri": "https://localhost:8080/"
        },
        "id": "XyHgbejEm6Va",
        "outputId": "57496555-d445-4c17-f119-3b2b3026257a"
      },
      "execution_count": 3,
      "outputs": [
        {
          "output_type": "stream",
          "name": "stdout",
          "text": [
            "Starting car with a key...\n",
            "Starting Bike with a button.....\n"
          ]
        }
      ]
    },
    {
      "cell_type": "markdown",
      "source": [
        "Operator Overloading"
      ],
      "metadata": {
        "id": "HTvYX9_joamm"
      }
    },
    {
      "cell_type": "code",
      "source": [
        "class Book:\n",
        "  def __init__(self, pages):\n",
        "    self.pages = pages\n",
        "\n",
        "  def __add__(self, other):\n",
        "    self.other = other\n",
        "    self.pages += other.pages\n",
        "    return self.pages\n",
        "\n",
        "b1 = Book(120)\n",
        "b2 = Book(200)\n",
        "\n",
        "print(b1 + b2)\n"
      ],
      "metadata": {
        "colab": {
          "base_uri": "https://localhost:8080/"
        },
        "id": "CRlnbMfBoG4v",
        "outputId": "86b77a01-2185-4acb-b959-63f8f0149cbc"
      },
      "execution_count": 7,
      "outputs": [
        {
          "output_type": "stream",
          "name": "stdout",
          "text": [
            "320\n"
          ]
        }
      ]
    },
    {
      "cell_type": "markdown",
      "source": [
        "#Encapsulation"
      ],
      "metadata": {
        "id": "59fncGKLpleZ"
      }
    },
    {
      "cell_type": "code",
      "source": [
        "class Student:\n",
        "  def __init__(self, name, age):\n",
        "    self.name = name\n",
        "    self._grade = \"A\"\n",
        "    self.__marks = 90\n",
        "\n",
        "  def display(self):\n",
        "    print(f\"Name : {self.name}, Grade: {self._grade}, Marks: {self.__marks}\")\n",
        "\n",
        "  def update_marks(self, new_marks):\n",
        "    if 0 <= new_marks <= 100:\n",
        "      self.__marks = new_marks\n",
        "s = Student(\"ADitya\", 22)\n",
        "s.display()\n",
        "\n",
        "print(s.name)\n",
        "print(s._grade)\n",
        "\n",
        "\n",
        "\n",
        "print(s._Student__marks)\n",
        "s.update_marks(80)\n",
        "s.display()"
      ],
      "metadata": {
        "colab": {
          "base_uri": "https://localhost:8080/"
        },
        "id": "2fPaRiqPo79i",
        "outputId": "79acc7a2-4cb2-4b04-fb04-3e8734cb38d0"
      },
      "execution_count": 8,
      "outputs": [
        {
          "output_type": "stream",
          "name": "stdout",
          "text": [
            "Name : ADitya, Grade: A, Marks: 90\n",
            "ADitya\n",
            "A\n",
            "90\n",
            "Name : ADitya, Grade: A, Marks: 80\n"
          ]
        }
      ]
    },
    {
      "cell_type": "markdown",
      "source": [
        "#Abstraction"
      ],
      "metadata": {
        "id": "gLM0SOPxsCmY"
      }
    },
    {
      "cell_type": "code",
      "source": [
        "from abc import ABC, abstractmethod\n",
        "\n",
        "class Payment(ABC):\n",
        "  @abstractmethod\n",
        "  def pay(self, amount):\n",
        "    pass\n",
        "\n",
        "class CreditCard(Payment):\n",
        "  def pay(self, amount):\n",
        "    print(f\"paid ${amount} using Credit Card\")\n",
        "\n",
        "class UPI(Payment):\n",
        "  def pay(self, amount):\n",
        "    print(f\"Paid ${amount} using UPI\")\n",
        "\n",
        "payment1 = CreditCard()\n",
        "payment1.pay(500)\n",
        "\n",
        "payment2 = UPI()\n",
        "payment2.pay(150)"
      ],
      "metadata": {
        "colab": {
          "base_uri": "https://localhost:8080/"
        },
        "id": "gUoESMCUq6xb",
        "outputId": "af52627e-f719-4b58-81f8-482c60a63a6f"
      },
      "execution_count": 10,
      "outputs": [
        {
          "output_type": "stream",
          "name": "stdout",
          "text": [
            "paid $500 using Credit Card\n",
            "Paid $150 using UPI\n"
          ]
        }
      ]
    },
    {
      "cell_type": "code",
      "source": [],
      "metadata": {
        "id": "pvBsjyWRtKbq"
      },
      "execution_count": null,
      "outputs": []
    }
  ]
}