{
  "nbformat": 4,
  "nbformat_minor": 0,
  "metadata": {
    "colab": {
      "provenance": [],
      "authorship_tag": "ABX9TyPFmtH3qYRkpgSx3gX9KVYX",
      "include_colab_link": true
    },
    "kernelspec": {
      "name": "python3",
      "display_name": "Python 3"
    },
    "language_info": {
      "name": "python"
    }
  },
  "cells": [
    {
      "cell_type": "markdown",
      "metadata": {
        "id": "view-in-github",
        "colab_type": "text"
      },
      "source": [
        "<a href=\"https://colab.research.google.com/github/vdadithya2002/Python-Learnings/blob/main/PythonDay7.ipynb\" target=\"_parent\"><img src=\"https://colab.research.google.com/assets/colab-badge.svg\" alt=\"Open In Colab\"/></a>"
      ]
    },
    {
      "cell_type": "markdown",
      "source": [
        "#**pratice questions**"
      ],
      "metadata": {
        "id": "HhgWyVsQvVLD"
      }
    },
    {
      "cell_type": "markdown",
      "source": [
        "Basics"
      ],
      "metadata": {
        "id": "NKLp7WVgv4Sa"
      }
    },
    {
      "cell_type": "markdown",
      "source": [
        "Print your name and age by taking input from the user.\n",
        "Use variables, input(), type casting."
      ],
      "metadata": {
        "id": "KGtge0QQ9d4e"
      }
    },
    {
      "cell_type": "code",
      "source": [
        "name = input(\"Enter Your name: \")\n",
        "age = int(input(\"Enter your age: \"))\n",
        "\n",
        "\n",
        "print(f\"The User Name is {name} and his age is {age}. \")"
      ],
      "metadata": {
        "colab": {
          "base_uri": "https://localhost:8080/"
        },
        "id": "UeO--7x5vlhv",
        "outputId": "87dc746d-0145-42a8-d0cc-2ebf6948fe5f"
      },
      "execution_count": 3,
      "outputs": [
        {
          "output_type": "stream",
          "name": "stdout",
          "text": [
            "Enter Your name: aditya\n",
            "Enter your age: 22\n",
            "The User Name is aditya and his age is 22. \n"
          ]
        }
      ]
    },
    {
      "cell_type": "markdown",
      "source": [
        "Write a program that takes two numbers and displays their sum, difference, product, and quotient.\n"
      ],
      "metadata": {
        "id": "C-5nPIJV9gfr"
      }
    },
    {
      "cell_type": "code",
      "source": [
        "A, B = map(int, input(\"Enter Two numbers: \").split())\n",
        "\n",
        "sum = A + B\n",
        "diff = A - B\n",
        "multi = A * B\n",
        "div = A / B\n",
        "\n",
        "print(f\"The sum of {A} and {B} is {sum}\")\n",
        "print(f\"The difference of {A} and {B} is {diff}\")\n",
        "print(f\"The multiplication of {A} and {B} is {multi}\")\n",
        "print(f\"The division of {A} and {B} is {div}\")\n"
      ],
      "metadata": {
        "colab": {
          "base_uri": "https://localhost:8080/"
        },
        "id": "NOr0CSeuwcLC",
        "outputId": "4589b7a6-8771-41f5-d3e2-f4ef5ab9aa70"
      },
      "execution_count": 5,
      "outputs": [
        {
          "output_type": "stream",
          "name": "stdout",
          "text": [
            "Enter Two numbers: 2 3\n",
            "The sum of 2 and 3 is 5\n",
            "The difference of 2 and 3 is -1\n",
            "The multiplication of 2 and 3 is 6\n",
            "The division of 2 and 3 is 0.6666666666666666\n"
          ]
        }
      ]
    },
    {
      "cell_type": "markdown",
      "source": [
        "Write a program to check if a number is positive, negative, or zero."
      ],
      "metadata": {
        "id": "Ec9UDBkq9kC5"
      }
    },
    {
      "cell_type": "code",
      "source": [
        "number = int(input(\"Enter the Number: \"))\n",
        "\n",
        "if number > 0:\n",
        "  print(f\"{number} is Positive Number\")\n",
        "elif number < 0:\n",
        "  print(f\"{number} is Negative Number\")\n",
        "else:\n",
        "  print(f\"Number is Zero\")"
      ],
      "metadata": {
        "colab": {
          "base_uri": "https://localhost:8080/"
        },
        "id": "BehXDRKv9Hv7",
        "outputId": "2d81e51e-4e74-47c8-f6d8-5ff05eceae2f"
      },
      "execution_count": 8,
      "outputs": [
        {
          "output_type": "stream",
          "name": "stdout",
          "text": [
            "Enter the Number: 0\n",
            "Number is Zero\n"
          ]
        }
      ]
    },
    {
      "cell_type": "markdown",
      "source": [
        "Take three numbers and print the greatest one using if-elif-else."
      ],
      "metadata": {
        "id": "fiG80M1s-LIu"
      }
    },
    {
      "cell_type": "code",
      "source": [
        "A, B , C = map(int, input(\"Enter Three Numbers: \").split())\n",
        "\n",
        "\n",
        "if A > B and A > C:\n",
        "  print(f\"{A} is the Greatest Number\")\n",
        "elif B > A and B > C:\n",
        "  print(f\"{B} is the Greatest Number\")\n",
        "else:\n",
        "  print(f\"{C} is the Greatest Number\")"
      ],
      "metadata": {
        "colab": {
          "base_uri": "https://localhost:8080/"
        },
        "id": "7nJ-Pck6-F6J",
        "outputId": "fc660932-074d-401a-d73f-14f978ac05de"
      },
      "execution_count": 11,
      "outputs": [
        {
          "output_type": "stream",
          "name": "stdout",
          "text": [
            "Enter Three Numbers: 2 9 0\n",
            "9 is the Greatest Number\n"
          ]
        }
      ]
    },
    {
      "cell_type": "markdown",
      "source": [
        "Print numbers from 1 to 20 using a for loop."
      ],
      "metadata": {
        "id": "RqcFYrpL-6xy"
      }
    },
    {
      "cell_type": "code",
      "source": [
        "for i in range(1, 21):\n",
        "  print(i)"
      ],
      "metadata": {
        "colab": {
          "base_uri": "https://localhost:8080/"
        },
        "id": "rI2mgog8-2HL",
        "outputId": "c0a87130-c46b-4b29-8371-492e9751b135"
      },
      "execution_count": 12,
      "outputs": [
        {
          "output_type": "stream",
          "name": "stdout",
          "text": [
            "1\n",
            "2\n",
            "3\n",
            "4\n",
            "5\n",
            "6\n",
            "7\n",
            "8\n",
            "9\n",
            "10\n",
            "11\n",
            "12\n",
            "13\n",
            "14\n",
            "15\n",
            "16\n",
            "17\n",
            "18\n",
            "19\n",
            "20\n"
          ]
        }
      ]
    },
    {
      "cell_type": "code",
      "source": [
        "for i in range(1, 5):\n",
        "  print(\"*\")"
      ],
      "metadata": {
        "colab": {
          "base_uri": "https://localhost:8080/"
        },
        "id": "sgCylzmUA2Pp",
        "outputId": "3c834f41-dcd0-48e9-af52-3c231b752178"
      },
      "execution_count": 53,
      "outputs": [
        {
          "output_type": "stream",
          "name": "stdout",
          "text": [
            "*\n",
            "*\n",
            "*\n",
            "*\n"
          ]
        }
      ]
    },
    {
      "cell_type": "code",
      "source": [
        "for i in range(1, 10):\n",
        "  for j in range(i, 10):\n",
        "    print(\"*\", end=\"\")\n",
        "  print()"
      ],
      "metadata": {
        "colab": {
          "base_uri": "https://localhost:8080/"
        },
        "id": "WJ0odBio_Epv",
        "outputId": "58fd65e2-7d1b-4f96-ca10-a5b7f6ceb323"
      },
      "execution_count": 64,
      "outputs": [
        {
          "output_type": "stream",
          "name": "stdout",
          "text": [
            "*********\n",
            "********\n",
            "*******\n",
            "******\n",
            "*****\n",
            "****\n",
            "***\n",
            "**\n",
            "*\n"
          ]
        }
      ]
    },
    {
      "cell_type": "markdown",
      "source": [
        "Write a program that prints even numbers between 1 and 50 using a while loop."
      ],
      "metadata": {
        "id": "LJHJBvlqCiIY"
      }
    },
    {
      "cell_type": "code",
      "source": [
        "n = 2\n",
        "while n <= 50:\n",
        "  print(n)\n",
        "  n += 2"
      ],
      "metadata": {
        "colab": {
          "base_uri": "https://localhost:8080/"
        },
        "id": "p5ITd4iUHhFE",
        "outputId": "906799f0-075a-45e2-d82b-e810e1d25a93"
      },
      "execution_count": 83,
      "outputs": [
        {
          "output_type": "stream",
          "name": "stdout",
          "text": [
            "2\n",
            "4\n",
            "6\n",
            "8\n",
            "10\n",
            "12\n",
            "14\n",
            "16\n",
            "18\n",
            "20\n",
            "22\n",
            "24\n",
            "26\n",
            "28\n",
            "30\n",
            "32\n",
            "34\n",
            "36\n",
            "38\n",
            "40\n",
            "42\n",
            "44\n",
            "46\n",
            "48\n",
            "50\n"
          ]
        }
      ]
    },
    {
      "cell_type": "markdown",
      "source": [
        "Create a list of 5 numbers. Add 2 more numbers, remove one, and print the final list.\n",
        "Use .append(), .remove()."
      ],
      "metadata": {
        "id": "gTzgVj6_JETO"
      }
    },
    {
      "cell_type": "code",
      "source": [
        "marks = [23, 4, 87, 35, 82]\n",
        "print(f\"Marks List of students are {marks}\")\n",
        "print()\n",
        "marks.append(38)\n",
        "marks.append(29)\n",
        "print(f\"Marks List of students after adding 2 more students {marks}\")\n",
        "print()\n",
        "marks.remove(4)\n",
        "print(f\"Marks List of Students after removing failed students {marks}\")"
      ],
      "metadata": {
        "colab": {
          "base_uri": "https://localhost:8080/"
        },
        "id": "linP0lZSCH0Y",
        "outputId": "0dcca724-6057-4ce1-879e-6765b15a6c26"
      },
      "execution_count": 90,
      "outputs": [
        {
          "output_type": "stream",
          "name": "stdout",
          "text": [
            "Marks List of students are [23, 4, 87, 35, 82]\n",
            "\n",
            "Marks List of students after adding 2 more students [23, 4, 87, 35, 82, 38, 29]\n",
            "\n",
            "Marks List of Students after removing failed students [23, 87, 35, 82, 38, 29]\n"
          ]
        }
      ]
    },
    {
      "cell_type": "markdown",
      "source": [
        "Create a dictionary of a student: name, age, marks. Print the keys and values.\n",
        "\n"
      ],
      "metadata": {
        "id": "lTEiidIjJG2l"
      }
    },
    {
      "cell_type": "code",
      "source": [
        "dict = {\n",
        "    'Name' : \"P.Vijaya Durga Adithya\",\n",
        "    'Age' : 20,\n",
        "    'Marks' : 99.9\n",
        "}\n",
        "\n",
        "print(dict)\n"
      ],
      "metadata": {
        "colab": {
          "base_uri": "https://localhost:8080/"
        },
        "id": "kV4xUrbgH0Ri",
        "outputId": "06a71096-d26d-4243-a1a9-eb667dc6dcf1"
      },
      "execution_count": 95,
      "outputs": [
        {
          "output_type": "stream",
          "name": "stdout",
          "text": [
            "{'Name': 'P.Vijaya Durga Adithya', 'Age': 20, 'Marks': 99.9}\n"
          ]
        }
      ]
    },
    {
      "cell_type": "markdown",
      "source": [
        "Create a set with duplicate values and print it (to show how sets remove duplicates)."
      ],
      "metadata": {
        "id": "g6hF2KeNJJDI"
      }
    },
    {
      "cell_type": "code",
      "source": [
        "scores_of_virat_kohli = {99 , 59, 43, 29, 59, 81}\n",
        "\n",
        "print(f\"Scores of virat kohli withour dulpicates {scores_of_virat_kohli}\")"
      ],
      "metadata": {
        "colab": {
          "base_uri": "https://localhost:8080/"
        },
        "id": "4WbdxMtbJC_I",
        "outputId": "f34c0933-e518-4399-93b6-e4cb20c3a8ab"
      },
      "execution_count": 98,
      "outputs": [
        {
          "output_type": "stream",
          "name": "stdout",
          "text": [
            "Scores of virat kohli withour dulpicates {81, 99, 59, 43, 29}\n"
          ]
        }
      ]
    },
    {
      "cell_type": "markdown",
      "source": [
        "Replace all vowels in a string with ‘*’.\n",
        "E.g., hello → h*ll*"
      ],
      "metadata": {
        "id": "eBaBg8SrKwPo"
      }
    },
    {
      "cell_type": "code",
      "source": [
        "vowels = 'aeiouAEIOU'\n",
        "\n",
        "Name = input(\"Enter ur name: \")\n",
        "\n",
        "result = \"\"\n",
        "for char in Name:\n",
        "  if char in vowels:\n",
        "    result += '*'\n",
        "  else:\n",
        "    result += char\n",
        "result\n",
        "\n"
      ],
      "metadata": {
        "colab": {
          "base_uri": "https://localhost:8080/",
          "height": 52
        },
        "id": "1-4wPzXyJmNp",
        "outputId": "f201823e-d628-456c-ba1c-167c19f4c3ba"
      },
      "execution_count": 104,
      "outputs": [
        {
          "name": "stdout",
          "output_type": "stream",
          "text": [
            "Enter ur name: aditya\n"
          ]
        },
        {
          "output_type": "execute_result",
          "data": {
            "text/plain": [
              "'*d*ty*'"
            ],
            "application/vnd.google.colaboratory.intrinsic+json": {
              "type": "string"
            }
          },
          "metadata": {},
          "execution_count": 104
        }
      ]
    },
    {
      "cell_type": "markdown",
      "source": [
        "Write a function that takes two numbers and returns their average."
      ],
      "metadata": {
        "id": "BADbjqQLMJJr"
      }
    },
    {
      "cell_type": "code",
      "source": [
        "def Caluclate(A, B):\n",
        "  return A + B / 2\n",
        "A, B = map(int, input(\"Enter Two numbers: \").split())\n",
        "\n",
        "Caluclate(A, B)"
      ],
      "metadata": {
        "colab": {
          "base_uri": "https://localhost:8080/"
        },
        "id": "JIIAbUrcLa8e",
        "outputId": "99083ab1-83df-48c2-f720-c05ed4341192"
      },
      "execution_count": 111,
      "outputs": [
        {
          "name": "stdout",
          "output_type": "stream",
          "text": [
            "Enter Two numbers: 3 9\n"
          ]
        },
        {
          "output_type": "execute_result",
          "data": {
            "text/plain": [
              "7.5"
            ]
          },
          "metadata": {},
          "execution_count": 111
        }
      ]
    },
    {
      "cell_type": "markdown",
      "source": [
        "Write a function using *args to return the sum of all given numbers."
      ],
      "metadata": {
        "id": "YFdCPc3rTuow"
      }
    },
    {
      "cell_type": "code",
      "source": [
        "def calucate(*sums):\n",
        "  total = 0\n",
        "  for sum in sums:\n",
        "    total += sum\n",
        "  return total\n",
        "\n",
        "\n",
        "\n",
        "calucate(3, 6, 9, 10, 20, -3, -35)\n"
      ],
      "metadata": {
        "colab": {
          "base_uri": "https://localhost:8080/"
        },
        "id": "oYygfXt_TTVe",
        "outputId": "45caf4ce-c370-47a1-b870-3bc04a32b995"
      },
      "execution_count": 131,
      "outputs": [
        {
          "output_type": "execute_result",
          "data": {
            "text/plain": [
              "10"
            ]
          },
          "metadata": {},
          "execution_count": 131
        }
      ]
    },
    {
      "cell_type": "markdown",
      "source": [
        "#MinI Project"
      ],
      "metadata": {
        "id": "zhb57P09UoUY"
      }
    },
    {
      "cell_type": "code",
      "source": [
        "names = input(\"Enter the 5 student names (space separated): \").split()\n",
        "ages = list(map(int, input(\"Enter the 5 student ages: \").split()))\n",
        "marks = list(map(int, input(\"Enter the 5 student marks: \").split()))"
      ],
      "metadata": {
        "colab": {
          "base_uri": "https://localhost:8080/"
        },
        "id": "5KDw9ceQUU4a",
        "outputId": "a65dd092-dae0-4e79-a951-dd983dfc6e5d"
      },
      "execution_count": 161,
      "outputs": [
        {
          "name": "stdout",
          "output_type": "stream",
          "text": [
            "Enter the 5 student names (space separated): Aditya Jogesh Sita Durga Raju\n",
            "Enter the 5 student ages: 22 21 22 21 20\n",
            "Enter the 5 student marks: 98 89 97 99 72\n"
          ]
        }
      ]
    },
    {
      "cell_type": "code",
      "source": [
        "Record = {\n",
        "    'Names': names,\n",
        "    'Ages': ages,\n",
        "    'Marks': marks\n",
        "}"
      ],
      "metadata": {
        "id": "3T-XSq1gU5ck"
      },
      "execution_count": 162,
      "outputs": []
    },
    {
      "cell_type": "code",
      "source": [
        "print(\"\\n--- Student Records ----\")\n",
        "for i in range(5):\n",
        "    print(f\"Name: {Record['Names'][i]}, Age: {Record['Ages'][i]}, Marks: {Record['Marks'][i]}\")\n",
        ""
      ],
      "metadata": {
        "colab": {
          "base_uri": "https://localhost:8080/"
        },
        "id": "d7vMaFTtVY4W",
        "outputId": "fb0bd3c8-3cd8-451b-ac7d-232426a652d9"
      },
      "execution_count": 163,
      "outputs": [
        {
          "output_type": "stream",
          "name": "stdout",
          "text": [
            "\n",
            "--- Student Records ----\n",
            "Name: Aditya, Age: 22, Marks: 98\n",
            "Name: Jogesh, Age: 21, Marks: 89\n",
            "Name: Sita, Age: 22, Marks: 97\n",
            "Name: Durga, Age: 21, Marks: 99\n",
            "Name: Raju, Age: 20, Marks: 72\n"
          ]
        }
      ]
    },
    {
      "cell_type": "code",
      "source": [
        "def get_grade(mark):\n",
        "    if mark >= 90:\n",
        "        return 'A'\n",
        "    elif mark >= 75:\n",
        "        return 'B'\n",
        "    elif mark >= 60:\n",
        "        return 'C'\n",
        "    else:\n",
        "        return 'D'"
      ],
      "metadata": {
        "id": "f-ae1TE6YA4t"
      },
      "execution_count": 164,
      "outputs": []
    },
    {
      "cell_type": "code",
      "source": [
        "def display_grades():\n",
        "    print(\"\\n--- Student Grades ---\")\n",
        "    for i in range(5):\n",
        "        grade = get_grade(Record['Marks'][i])\n",
        "        print(f\"{Record['Names'][i]}: Grade {grade}\")"
      ],
      "metadata": {
        "id": "b-uY0vMakHqi"
      },
      "execution_count": 165,
      "outputs": []
    },
    {
      "cell_type": "code",
      "source": [
        "def class_topper():\n",
        "    highest = max(Record['Marks'])\n",
        "    index = Record['Marks'].index(highest)\n",
        "    print(f\"\\n🏆 Class Topper: {Record['Names'][index]} with {highest} marks\")"
      ],
      "metadata": {
        "id": "NCNlQrS6kUEG"
      },
      "execution_count": 166,
      "outputs": []
    },
    {
      "cell_type": "code",
      "source": [
        "display_grades()\n",
        "class_topper()"
      ],
      "metadata": {
        "colab": {
          "base_uri": "https://localhost:8080/"
        },
        "id": "pyVHUG8GkWLC",
        "outputId": "f0c2a48a-2952-4733-9b06-21dc97e6a7a7"
      },
      "execution_count": 167,
      "outputs": [
        {
          "output_type": "stream",
          "name": "stdout",
          "text": [
            "\n",
            "--- Student Grades ---\n",
            "Aditya: Grade A\n",
            "Jogesh: Grade B\n",
            "Sita: Grade A\n",
            "Durga: Grade A\n",
            "Raju: Grade C\n",
            "\n",
            "🏆 Class Topper: Durga with 99 marks\n"
          ]
        }
      ]
    },
    {
      "cell_type": "code",
      "source": [
        "def search_student(name):\n",
        "  if name in Record['Names']:\n",
        "    idx = Record['Names'].index(name)\n",
        "    age = Record['Ages'][idx]\n",
        "    mark = Record['Marks'][idx]\n",
        "    grade = get_grade(mark)\n",
        "    print(f\"\\n--Student Found:\")\n",
        "    print(f\"Name: {name}, Age: {age}, Marks: {mark}, Grade: {grade}\")\n",
        "  else:\n",
        "    print(f\"\\nStudent {name} not found in the records.\")\n",
        "\n"
      ],
      "metadata": {
        "id": "SKnFuaV1kXxL"
      },
      "execution_count": 168,
      "outputs": []
    },
    {
      "cell_type": "code",
      "source": [
        "# Interactive menu\n",
        "while True:\n",
        "    print(\"\\n--- MENU ---\")\n",
        "    print(\"1. View All Students\")\n",
        "    print(\"2. View Grades\")\n",
        "    print(\"3. Show Topper\")\n",
        "    print(\"4. Search by Name\")\n",
        "    print(\"5. Exit\")\n",
        "\n",
        "    choice = input(\"Enter your choice (1-5): \")\n",
        "\n",
        "    if choice == '1':\n",
        "        print(\"\\n--- Student Records ---\")\n",
        "        for i in range(5):\n",
        "            print(f\"{i+1}. Name: {Record['Names'][i]}, Age: {Record['Ages'][i]}, Marks: {Record['Marks'][i]}\")\n",
        "    elif choice == '2':\n",
        "        display_grades()\n",
        "    elif choice == '3':\n",
        "        class_topper()\n",
        "    elif choice == '4':\n",
        "        search_name = input(\"Enter student name to search: \")\n",
        "        search_student(search_name)\n",
        "    elif choice == '5':\n",
        "        print(\"Exiting program. ✅\")\n",
        "        break\n",
        "    else:\n",
        "        print(\"❌ Invalid choice. Try again.\")\n"
      ],
      "metadata": {
        "colab": {
          "base_uri": "https://localhost:8080/"
        },
        "id": "XiecotSzlIyg",
        "outputId": "3a777c00-45dc-4deb-87eb-9aad6b6b5e6a"
      },
      "execution_count": 169,
      "outputs": [
        {
          "output_type": "stream",
          "name": "stdout",
          "text": [
            "\n",
            "--- MENU ---\n",
            "1. View All Students\n",
            "2. View Grades\n",
            "3. Show Topper\n",
            "4. Search by Name\n",
            "5. Exit\n",
            "Enter your choice (1-5): 1\n",
            "\n",
            "--- Student Records ---\n",
            "1. Name: Aditya, Age: 22, Marks: 98\n",
            "2. Name: Jogesh, Age: 21, Marks: 89\n",
            "3. Name: Sita, Age: 22, Marks: 97\n",
            "4. Name: Durga, Age: 21, Marks: 99\n",
            "5. Name: Raju, Age: 20, Marks: 72\n",
            "\n",
            "--- MENU ---\n",
            "1. View All Students\n",
            "2. View Grades\n",
            "3. Show Topper\n",
            "4. Search by Name\n",
            "5. Exit\n",
            "Enter your choice (1-5): 1\n",
            "\n",
            "--- Student Records ---\n",
            "1. Name: Aditya, Age: 22, Marks: 98\n",
            "2. Name: Jogesh, Age: 21, Marks: 89\n",
            "3. Name: Sita, Age: 22, Marks: 97\n",
            "4. Name: Durga, Age: 21, Marks: 99\n",
            "5. Name: Raju, Age: 20, Marks: 72\n",
            "\n",
            "--- MENU ---\n",
            "1. View All Students\n",
            "2. View Grades\n",
            "3. Show Topper\n",
            "4. Search by Name\n",
            "5. Exit\n",
            "Enter your choice (1-5): 4\n",
            "Enter student name to search: Akhil\n",
            "\n",
            "Student Akhil not found in the records.\n",
            "\n",
            "--- MENU ---\n",
            "1. View All Students\n",
            "2. View Grades\n",
            "3. Show Topper\n",
            "4. Search by Name\n",
            "5. Exit\n",
            "Enter your choice (1-5): 3\n",
            "\n",
            "🏆 Class Topper: Durga with 99 marks\n",
            "\n",
            "--- MENU ---\n",
            "1. View All Students\n",
            "2. View Grades\n",
            "3. Show Topper\n",
            "4. Search by Name\n",
            "5. Exit\n",
            "Enter your choice (1-5): 2\n",
            "\n",
            "--- Student Grades ---\n",
            "Aditya: Grade A\n",
            "Jogesh: Grade B\n",
            "Sita: Grade A\n",
            "Durga: Grade A\n",
            "Raju: Grade C\n",
            "\n",
            "--- MENU ---\n",
            "1. View All Students\n",
            "2. View Grades\n",
            "3. Show Topper\n",
            "4. Search by Name\n",
            "5. Exit\n",
            "Enter your choice (1-5): 5\n",
            "Exiting program. ✅\n"
          ]
        }
      ]
    },
    {
      "cell_type": "code",
      "source": [],
      "metadata": {
        "id": "OyYlmwIjlQF-"
      },
      "execution_count": null,
      "outputs": []
    }
  ]
}