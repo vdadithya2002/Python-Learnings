{
  "nbformat": 4,
  "nbformat_minor": 0,
  "metadata": {
    "colab": {
      "provenance": [],
      "authorship_tag": "ABX9TyPfroiEhPl52+KDq/hnYioS",
      "include_colab_link": true
    },
    "kernelspec": {
      "name": "python3",
      "display_name": "Python 3"
    },
    "language_info": {
      "name": "python"
    }
  },
  "cells": [
    {
      "cell_type": "markdown",
      "metadata": {
        "id": "view-in-github",
        "colab_type": "text"
      },
      "source": [
        "<a href=\"https://colab.research.google.com/github/vdadithya2002/Python-Learnings/blob/main/PythonDay8.ipynb\" target=\"_parent\"><img src=\"https://colab.research.google.com/assets/colab-badge.svg\" alt=\"Open In Colab\"/></a>"
      ]
    },
    {
      "cell_type": "markdown",
      "source": [
        "#**File Handling**"
      ],
      "metadata": {
        "id": "Ax6XpyUn3DrC"
      }
    },
    {
      "cell_type": "markdown",
      "source": [
        "Opening a File"
      ],
      "metadata": {
        "id": "sLw8oNCP3LBb"
      }
    },
    {
      "cell_type": "code",
      "execution_count": 3,
      "metadata": {
        "id": "fMJpskz42Tbn"
      },
      "outputs": [],
      "source": [
        "file = open(\"/content/python.txt\", \"r\")"
      ]
    },
    {
      "cell_type": "code",
      "source": [
        "content = file.read()\n",
        "print(content)\n",
        "file.close()\n"
      ],
      "metadata": {
        "colab": {
          "base_uri": "https://localhost:8080/"
        },
        "id": "VEP2-wsd3TC_",
        "outputId": "45e9598d-e5f4-4342-aab2-9e006fe70425"
      },
      "execution_count": 4,
      "outputs": [
        {
          "output_type": "stream",
          "name": "stdout",
          "text": [
            "python dsa\n",
            "\n",
            "\n",
            "🔰 Week 1: Core Data Structures\n",
            "Day\tTopic\tPractice Tasks\n",
            "Day 1\tLists & Operations\tInsert, delete, search, reverse\n",
            "Day 2\tStacks using Lists\tPush, pop, peek, isEmpty\n",
            "Day 3\tQueues & Deques\tFIFO queue, circular queue\n",
            "Day 4\tStrings (Advanced Ops)\tAnagram check, Palindrome, Substrings\n",
            "Day 5\tHashing & Dictionaries\tFrequency counter, hashmaps\n",
            "Day 6\tSets and Set Operations\tUnion, intersection, duplicates removal\n",
            "Day 7\tPractice Day\t8–10 problems from the week\n",
            "\n",
            "⚙️ Week 2: Recursion + Searching + Sorting\n",
            "Day\tTopic\tPractice Tasks\n",
            "Day 8\tRecursion Basics\tFactorial, Fibonacci, GCD\n",
            "Day 9\tBinary Search\tSearch in sorted list, rotated array\n",
            "Day 10\tLinear vs Binary Search\tDry-run and comparison\n",
            "Day 11\tBubble Sort, Selection Sort\tSort a list, step-by-step swap\n",
            "Day 12\tInsertion Sort\tSort by inserting into correct pos\n",
            "Day 13\tMerge Sort\tDivide & Conquer practice\n",
            "Day 14\tPractice Day\tSorting + searching problems\n",
            "\n",
            "🔗 Week 3: Problem Solving & Algorithms\n",
            "Day\tTopic\tPractice Tasks\n",
            "Day 15\tTwo Pointers\tPair sum, reverse vowels, move zeroes\n",
            "Day 16\tSliding Window\tMax sum subarray, longest substring\n",
            "Day 17\tPrefix Sum & Difference Arrays\tRange sum queries\n",
            "Day 18\tRecursion to Backtracking\tSubsets, permutations\n",
            "Day 19\tIntro to Linked Lists (Singly)\tCreate, insert, delete, traverse\n",
            "Day 20\tStack/Queue Problems (Leetcode-style)\tValid parentheses, next greater element\n",
            "Day 21\tWeekly Final Practice\tSolve a mix of 10–15 interview-style problems\n",
            "\n",
            "\n"
          ]
        }
      ]
    },
    {
      "cell_type": "code",
      "source": [
        "file = open(\"/content/python.txt\", \"rb\")\n",
        "print(file.read())"
      ],
      "metadata": {
        "colab": {
          "base_uri": "https://localhost:8080/"
        },
        "id": "Rmp9sHC_GmoN",
        "outputId": "69647174-4c38-44c7-91dc-96280a9d44f3"
      },
      "execution_count": 5,
      "outputs": [
        {
          "output_type": "stream",
          "name": "stdout",
          "text": [
            "b'python dsa\\r\\n\\r\\n\\r\\n\\xf0\\x9f\\x94\\xb0 Week 1: Core Data Structures\\r\\nDay\\tTopic\\tPractice Tasks\\r\\nDay 1\\tLists & Operations\\tInsert, delete, search, reverse\\r\\nDay 2\\tStacks using Lists\\tPush, pop, peek, isEmpty\\r\\nDay 3\\tQueues & Deques\\tFIFO queue, circular queue\\r\\nDay 4\\tStrings (Advanced Ops)\\tAnagram check, Palindrome, Substrings\\r\\nDay 5\\tHashing & Dictionaries\\tFrequency counter, hashmaps\\r\\nDay 6\\tSets and Set Operations\\tUnion, intersection, duplicates removal\\r\\nDay 7\\tPractice Day\\t8\\xe2\\x80\\x9310 problems from the week\\r\\n\\r\\n\\xe2\\x9a\\x99\\xef\\xb8\\x8f Week 2: Recursion + Searching + Sorting\\r\\nDay\\tTopic\\tPractice Tasks\\r\\nDay 8\\tRecursion Basics\\tFactorial, Fibonacci, GCD\\r\\nDay 9\\tBinary Search\\tSearch in sorted list, rotated array\\r\\nDay 10\\tLinear vs Binary Search\\tDry-run and comparison\\r\\nDay 11\\tBubble Sort, Selection Sort\\tSort a list, step-by-step swap\\r\\nDay 12\\tInsertion Sort\\tSort by inserting into correct pos\\r\\nDay 13\\tMerge Sort\\tDivide & Conquer practice\\r\\nDay 14\\tPractice Day\\tSorting + searching problems\\r\\n\\r\\n\\xf0\\x9f\\x94\\x97 Week 3: Problem Solving & Algorithms\\r\\nDay\\tTopic\\tPractice Tasks\\r\\nDay 15\\tTwo Pointers\\tPair sum, reverse vowels, move zeroes\\r\\nDay 16\\tSliding Window\\tMax sum subarray, longest substring\\r\\nDay 17\\tPrefix Sum & Difference Arrays\\tRange sum queries\\r\\nDay 18\\tRecursion to Backtracking\\tSubsets, permutations\\r\\nDay 19\\tIntro to Linked Lists (Singly)\\tCreate, insert, delete, traverse\\r\\nDay 20\\tStack/Queue Problems (Leetcode-style)\\tValid parentheses, next greater element\\r\\nDay 21\\tWeekly Final Practice\\tSolve a mix of 10\\xe2\\x80\\x9315 interview-style problems\\r\\n\\r\\n'\n"
          ]
        }
      ]
    },
    {
      "cell_type": "code",
      "source": [
        "file = open(\"/content/python.txt\", \"w\")\n",
        "file.write(\"Hello World\")\n",
        "file.close()"
      ],
      "metadata": {
        "id": "8YHD0loAG8U3"
      },
      "execution_count": 7,
      "outputs": []
    },
    {
      "cell_type": "code",
      "source": [
        "file = open(\"/content/python.txt\", \"a\")\n",
        "file.write(\"This is the roadmap for the dsa Python\")\n",
        "file.close()"
      ],
      "metadata": {
        "id": "OC8s1QyTHNrT"
      },
      "execution_count": 11,
      "outputs": []
    },
    {
      "cell_type": "code",
      "source": [
        "with open(\"python.txt\", \"r\") as file:\n",
        "  content = file.read()\n",
        "  print(content)"
      ],
      "metadata": {
        "colab": {
          "base_uri": "https://localhost:8080/"
        },
        "id": "HLrliNKsHebw",
        "outputId": "1d0c7c5b-ee0e-4367-a032-1c64f1471cbd"
      },
      "execution_count": 12,
      "outputs": [
        {
          "output_type": "stream",
          "name": "stdout",
          "text": [
            "Hello WorlsThis is the roadmap for the dsa PythonThis is the roadmap for the dsa PythonThis is the roadmap for the dsa PythonThis is the roadmap for the dsa Python\n"
          ]
        }
      ]
    },
    {
      "cell_type": "markdown",
      "source": [],
      "metadata": {
        "id": "1UNOgu3zKjXW"
      }
    },
    {
      "cell_type": "code",
      "source": [
        "try:\n",
        "  file = open(\"python.txt\", \"r\")\n",
        "  content = file.read()\n",
        "  print(content)\n",
        "finally:\n",
        "  print(f\"There is no file called {file} \")\n",
        "  file.close()"
      ],
      "metadata": {
        "colab": {
          "base_uri": "https://localhost:8080/"
        },
        "id": "Vs0zucpdHuzq",
        "outputId": "4023a20d-7f2a-462e-ec8b-abba56fd60be"
      },
      "execution_count": 15,
      "outputs": [
        {
          "output_type": "stream",
          "name": "stdout",
          "text": [
            "Hello WorlsThis is the roadmap for the dsa PythonThis is the roadmap for the dsa PythonThis is the roadmap for the dsa PythonThis is the roadmap for the dsa Python\n",
            "There is no file called <_io.TextIOWrapper name='python.txt' mode='r' encoding='utf-8'> \n"
          ]
        }
      ]
    },
    {
      "cell_type": "markdown",
      "source": [
        "Exercise 1: Write your name, age, and course to a file called info.txt"
      ],
      "metadata": {
        "id": "Sv2VK2NMKk5m"
      }
    },
    {
      "cell_type": "code",
      "source": [
        "with open(\"info.txt\", \"w\") as file:\n",
        "  file.write(\"Name: Aditya\\n\")\n",
        "  file.write(\"Age: 22\\n\")\n",
        "  file.write(\"Gender: Male\\n\")"
      ],
      "metadata": {
        "id": "CkSU1U93H_Nr"
      },
      "execution_count": 16,
      "outputs": []
    },
    {
      "cell_type": "markdown",
      "source": [
        "Exercise 2: Read and display contents from info.txt"
      ],
      "metadata": {
        "id": "gbhQVN94KhR9"
      }
    },
    {
      "cell_type": "code",
      "source": [
        "with open(\"info.txt\", \"r\") as file:\n",
        "  content = file.read()\n",
        "  print(\"File content: \\n\", content)"
      ],
      "metadata": {
        "colab": {
          "base_uri": "https://localhost:8080/"
        },
        "id": "w3VfQlu7JASj",
        "outputId": "70ed15da-7455-43b1-f1f6-edd0c91d0461"
      },
      "execution_count": 18,
      "outputs": [
        {
          "output_type": "stream",
          "name": "stdout",
          "text": [
            "File content: \n",
            " Name: Aditya\n",
            "Age: 22\n",
            "Gender: Male\n",
            "\n"
          ]
        }
      ]
    },
    {
      "cell_type": "markdown",
      "source": [
        "Exercise 3: Append another info"
      ],
      "metadata": {
        "id": "aLRW1ZWaKcp8"
      }
    },
    {
      "cell_type": "code",
      "source": [
        "with open(\"info.txt\", \"a\") as file:\n",
        "  file.write(\"Address: Hyderabad\\n\")\n",
        "  file.write(\"Phone: 9876543210\\n\")\n",
        "  file.write(\"Email: pvijayadurgaadithya.com\\n\")"
      ],
      "metadata": {
        "id": "FqtkB-ecJQ4t"
      },
      "execution_count": 19,
      "outputs": []
    },
    {
      "cell_type": "markdown",
      "source": [
        "Exercise 4: Create a file marks.txt, write 5 student marks, then read and print average"
      ],
      "metadata": {
        "id": "W0e-5L-hKaSB"
      }
    },
    {
      "cell_type": "code",
      "source": [
        "marks = [89,90,92,87,95]\n",
        "\n",
        "with open(\"marks.txt\", \"w\") as file:\n",
        "  for mark in marks:\n",
        "    file.write(str(mark) + \"\\n\")\n",
        "\n",
        "with open(\"marks.txt\", \"r\") as file:\n",
        "  lines = file.readlines()\n",
        "  total = sum([int(line.strip())for line in lines])\n",
        "  average = total / len(lines)\n",
        "  print(\"Average: \", average)"
      ],
      "metadata": {
        "colab": {
          "base_uri": "https://localhost:8080/"
        },
        "id": "WhwV4pgPJjWz",
        "outputId": "ac6f4c05-8557-47be-b721-cd35c88e356a"
      },
      "execution_count": 20,
      "outputs": [
        {
          "output_type": "stream",
          "name": "stdout",
          "text": [
            "Average:  90.6\n"
          ]
        }
      ]
    },
    {
      "cell_type": "markdown",
      "source": [
        "Exercise 5: Save a list of dictionaries (students with name, age, marks) to a file"
      ],
      "metadata": {
        "id": "DC1XmBtjKXH7"
      }
    },
    {
      "cell_type": "code",
      "source": [
        "students = [\n",
        "    {\"name\": \"Alice\", \"age\": 20, \"marks\": 87},\n",
        "    {\"name\": \"Bob\", \"age\": 21, \"marks\": 90},\n",
        "    {\"name\": \"Charlie\", \"age\": 19, \"marks\": 76}\n",
        "]\n",
        "\n",
        "# Writing to file\n",
        "with open(\"students.txt\", \"w\") as file:\n",
        "    for student in students:\n",
        "        file.write(f\"{student['name']},{student['age']},{student['marks']}\\n\")\n",
        "\n",
        "# Reading and displaying\n",
        "print(\"📋 Student Records:\")\n",
        "with open(\"students.txt\", \"r\") as file:\n",
        "    for line in file:\n",
        "        name, age, marks = line.strip().split(\",\")\n",
        "        print(f\"Name: {name}, Age: {age}, Marks: {marks}\")\n"
      ],
      "metadata": {
        "colab": {
          "base_uri": "https://localhost:8080/"
        },
        "id": "ZyRiBUPJKRIN",
        "outputId": "9ddaa9f0-e84f-4eb3-cdd0-8fdee85c37a0"
      },
      "execution_count": 21,
      "outputs": [
        {
          "output_type": "stream",
          "name": "stdout",
          "text": [
            "📋 Student Records:\n",
            "Name: Alice, Age: 20, Marks: 87\n",
            "Name: Bob, Age: 21, Marks: 90\n",
            "Name: Charlie, Age: 19, Marks: 76\n"
          ]
        }
      ]
    },
    {
      "cell_type": "code",
      "source": [],
      "metadata": {
        "id": "sJp2orAeKUXq"
      },
      "execution_count": null,
      "outputs": []
    }
  ]
}