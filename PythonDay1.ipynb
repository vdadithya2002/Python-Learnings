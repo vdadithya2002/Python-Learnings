{
  "nbformat": 4,
  "nbformat_minor": 0,
  "metadata": {
    "colab": {
      "provenance": [],
      "authorship_tag": "ABX9TyM98872D2u/VsORPrXNfSmv",
      "include_colab_link": true
    },
    "kernelspec": {
      "name": "python3",
      "display_name": "Python 3"
    },
    "language_info": {
      "name": "python"
    }
  },
  "cells": [
    {
      "cell_type": "markdown",
      "metadata": {
        "id": "view-in-github",
        "colab_type": "text"
      },
      "source": [
        "<a href=\"https://colab.research.google.com/github/vdadithya2002/Python-Learnings/blob/main/PythonDay1.ipynb\" target=\"_parent\"><img src=\"https://colab.research.google.com/assets/colab-badge.svg\" alt=\"Open In Colab\"/></a>"
      ]
    },
    {
      "cell_type": "code",
      "execution_count": null,
      "metadata": {
        "colab": {
          "base_uri": "https://localhost:8080/"
        },
        "id": "VH9eccJScbb0",
        "outputId": "969b12c1-df8d-4366-80c9-ed34e07f838f"
      },
      "outputs": [
        {
          "output_type": "stream",
          "name": "stdout",
          "text": [
            "Hello its my first day learning python\n"
          ]
        }
      ],
      "source": [
        "print(\"Hello its my first day learning python\")"
      ]
    },
    {
      "cell_type": "markdown",
      "source": [
        "#Variables in Python"
      ],
      "metadata": {
        "id": "-PrKdWnReIRl"
      }
    },
    {
      "cell_type": "code",
      "source": [
        "#Variables y stores the number 100\n",
        "y = 100\n",
        "print(y)"
      ],
      "metadata": {
        "colab": {
          "base_uri": "https://localhost:8080/"
        },
        "id": "H7S4Wx5weKJm",
        "outputId": "3d00b99d-9358-45a6-dc9e-8500d24248b6"
      },
      "execution_count": null,
      "outputs": [
        {
          "output_type": "stream",
          "name": "stdout",
          "text": [
            "100\n"
          ]
        }
      ]
    },
    {
      "cell_type": "code",
      "source": [
        "#Variables name stores the virat kohli\n",
        "name = \"Virat Kohli\"\n",
        "print(name)"
      ],
      "metadata": {
        "colab": {
          "base_uri": "https://localhost:8080/"
        },
        "id": "ZP7Em6Fpedf6",
        "outputId": "3e46e27c-d169-4a5d-fa0b-2d59cbfa5f4c"
      },
      "execution_count": null,
      "outputs": [
        {
          "output_type": "stream",
          "name": "stdout",
          "text": [
            "Virat Kohli\n"
          ]
        }
      ]
    },
    {
      "cell_type": "code",
      "source": [
        "#assigning the same value for three variables\n",
        "a = b = c = 143\n",
        "print(a, b, c)"
      ],
      "metadata": {
        "colab": {
          "base_uri": "https://localhost:8080/"
        },
        "id": "4MxaNQqEeqHT",
        "outputId": "879d6003-8326-49b4-da36-50fa4bda7f61"
      },
      "execution_count": null,
      "outputs": [
        {
          "output_type": "stream",
          "name": "stdout",
          "text": [
            "143 143 143\n"
          ]
        }
      ]
    },
    {
      "cell_type": "code",
      "source": [
        "#assigng different variables\n",
        "a, b, c = 1, 2.5 , \"Ipl\"\n",
        "print(a, b, c)"
      ],
      "metadata": {
        "colab": {
          "base_uri": "https://localhost:8080/"
        },
        "id": "XSnAyc2sfdYQ",
        "outputId": "07383de9-a072-48b2-d44e-860b272b7445"
      },
      "execution_count": null,
      "outputs": [
        {
          "output_type": "stream",
          "name": "stdout",
          "text": [
            "1 2.5 Ipl\n"
          ]
        }
      ]
    },
    {
      "cell_type": "code",
      "source": [
        "#Typecasting the varibles\n",
        "x = 100\n",
        "y = float(x)\n",
        "print(y)\n",
        "\n",
        "a = 100\n",
        "b = str(a)\n",
        "print(b)\n",
        "\n",
        "\n",
        "print(type(a))\n",
        "print(type(b))"
      ],
      "metadata": {
        "colab": {
          "base_uri": "https://localhost:8080/"
        },
        "id": "LzyccL-1fv6H",
        "outputId": "adaafe91-4bcc-4782-be98-3a5f4837f1a9"
      },
      "execution_count": null,
      "outputs": [
        {
          "output_type": "stream",
          "name": "stdout",
          "text": [
            "100.0\n",
            "100\n",
            "<class 'int'>\n",
            "<class 'str'>\n"
          ]
        }
      ]
    },
    {
      "cell_type": "code",
      "source": [
        "#scope of the variable\n",
        "\n",
        "\n",
        "#local variable\n",
        "def f():\n",
        "  a = \"This is the day 1 of learning python\"\n",
        "  print(a)\n",
        "\n",
        "f()\n",
        "\n",
        "\n",
        "a = \"This is the day 1 of learning python\"\n",
        "def f():\n",
        "  global a\n",
        "  a = \"Now i am learning about variables\"\n",
        "  print(a)\n",
        "\n",
        "f()\n",
        "print(a)"
      ],
      "metadata": {
        "colab": {
          "base_uri": "https://localhost:8080/"
        },
        "id": "WFAZeciTf69G",
        "outputId": "0ee16977-5d99-4824-a510-24609e8de5ae"
      },
      "execution_count": null,
      "outputs": [
        {
          "output_type": "stream",
          "name": "stdout",
          "text": [
            "This is the day 1 of learning python\n",
            "Now i am learning about variables\n",
            "Now i am learning about variables\n"
          ]
        }
      ]
    },
    {
      "cell_type": "code",
      "source": [
        "#deleting a variable\n",
        "x, y = \"now deleting the varible x\", \"Not deleting the varible y\"\n",
        "\n",
        "del x\n",
        "\n",
        "print(y)"
      ],
      "metadata": {
        "colab": {
          "base_uri": "https://localhost:8080/"
        },
        "id": "rEwock_kjngu",
        "outputId": "b4c6557e-af06-4fa5-b55b-5bd87acab744"
      },
      "execution_count": null,
      "outputs": [
        {
          "output_type": "stream",
          "name": "stdout",
          "text": [
            "Not deleting the varible y\n"
          ]
        }
      ]
    },
    {
      "cell_type": "markdown",
      "source": [
        "#Pratice examples of varibles\n"
      ],
      "metadata": {
        "id": "szelAGKik5Q7"
      }
    },
    {
      "cell_type": "code",
      "source": [
        "#swapping the two varibles\n",
        "\n",
        "a, b = 12 , 25\n",
        "print(a, b)\n",
        "\n",
        "a , b = b , a\n",
        "print (a , b)"
      ],
      "metadata": {
        "colab": {
          "base_uri": "https://localhost:8080/"
        },
        "id": "7wGjNW7dk_v1",
        "outputId": "487968bd-b768-48f6-f9b0-99265a39dd28"
      },
      "execution_count": null,
      "outputs": [
        {
          "output_type": "stream",
          "name": "stdout",
          "text": [
            "12 25\n",
            "25 12\n"
          ]
        }
      ]
    },
    {
      "cell_type": "code",
      "source": [
        "#counting characters in sentence\n",
        "word = \"Today virat kohli gave announcement of retirement in test cricket\"\n",
        "length = len(word)\n",
        "print(length)"
      ],
      "metadata": {
        "colab": {
          "base_uri": "https://localhost:8080/"
        },
        "id": "RxmqTk-ZlNb6",
        "outputId": "d9bc76e8-5bc5-4193-edf3-24290bad74ce"
      },
      "execution_count": null,
      "outputs": [
        {
          "output_type": "stream",
          "name": "stdout",
          "text": [
            "65\n"
          ]
        }
      ]
    },
    {
      "cell_type": "markdown",
      "source": [
        "Data Types\n"
      ],
      "metadata": {
        "id": "2nKGWcSF4SO3"
      }
    },
    {
      "cell_type": "markdown",
      "source": [
        "#String Data Type"
      ],
      "metadata": {
        "id": "7vQQ-FEF6yFK"
      }
    },
    {
      "cell_type": "code",
      "source": [
        "#String Data Type\n",
        "s = \"Now i am learning about data types\"\n",
        "print(s)\n",
        "\n",
        "\n",
        "print(type(s))\n",
        "\n",
        "\n",
        "#accesssing the index from the string\n",
        "\n",
        "print(s[1])\n",
        "print(s[14])\n",
        "\n",
        "print(s[:3])\n",
        "print(s[13:])\n",
        "print(s[13:20])"
      ],
      "metadata": {
        "colab": {
          "base_uri": "https://localhost:8080/"
        },
        "id": "z1mDyUeQ4UUc",
        "outputId": "9bd9ae56-2c1e-49ca-c507-be7b0e68e714"
      },
      "execution_count": null,
      "outputs": [
        {
          "output_type": "stream",
          "name": "stdout",
          "text": [
            "Now i am learning about data types\n",
            "<class 'str'>\n",
            "o\n",
            "i\n",
            "Now\n",
            "ning about data types\n",
            "ning ab\n"
          ]
        }
      ]
    },
    {
      "cell_type": "markdown",
      "source": [
        "#List data type"
      ],
      "metadata": {
        "id": "8XsB9Veb62cr"
      }
    },
    {
      "cell_type": "code",
      "source": [
        "#List data type\n",
        "\n",
        "a = []\n",
        "print(a)\n",
        "a = [ 1, 4, 7]\n",
        "print(a)\n",
        "\n",
        "\n",
        "a.append(1)\n",
        "a.append(2)\n",
        "print(a)\n",
        "\n",
        "\n",
        "b = [ \"andaio\", 'andania', 2 , 4.59]\n",
        "print(b)\n",
        "\n",
        "\n",
        "f = [\" This is 13th may 2025 then i am learning data types in python\", \"this is the 2nd sentence in the variable f \", \"THis is the 3rdvarible in the data types testing\"]\n",
        "print(f[2][10])"
      ],
      "metadata": {
        "colab": {
          "base_uri": "https://localhost:8080/"
        },
        "id": "Wif2yIj64gcf",
        "outputId": "a8a96fe5-493f-469c-e69d-e4f769dbffb7"
      },
      "execution_count": null,
      "outputs": [
        {
          "output_type": "stream",
          "name": "stdout",
          "text": [
            "[]\n",
            "[1, 4, 7]\n",
            "[1, 4, 7, 1, 2]\n",
            "['andaio', 'andania', 2, 4.59]\n",
            "e\n"
          ]
        }
      ]
    },
    {
      "cell_type": "markdown",
      "source": [
        "#Tuples in the python"
      ],
      "metadata": {
        "id": "oO06D19_63-S"
      }
    },
    {
      "cell_type": "code",
      "source": [
        "tup1 = ()\n",
        "print(tup1)\n",
        "\n",
        "tup2 = (1, 2, 3, 4)\n",
        "print(tup2)"
      ],
      "metadata": {
        "colab": {
          "base_uri": "https://localhost:8080/"
        },
        "id": "068uktFm64bD",
        "outputId": "c1bfb0be-cefd-4a5b-d827-aac837c33be8"
      },
      "execution_count": null,
      "outputs": [
        {
          "output_type": "stream",
          "name": "stdout",
          "text": [
            "()\n",
            "(1, 2, 3, 4)\n"
          ]
        }
      ]
    },
    {
      "cell_type": "code",
      "source": [
        "tup1 = tuple([1,3, 6, 9, 10])\n",
        "print(tup1)\n",
        "\n",
        "print(tup1[3])"
      ],
      "metadata": {
        "colab": {
          "base_uri": "https://localhost:8080/"
        },
        "id": "Pq4Q_wei7GcT",
        "outputId": "211831b2-72e8-441c-fe78-8094432cadd0"
      },
      "execution_count": null,
      "outputs": [
        {
          "output_type": "stream",
          "name": "stdout",
          "text": [
            "(1, 3, 6, 9, 10)\n",
            "9\n"
          ]
        }
      ]
    },
    {
      "cell_type": "markdown",
      "source": [
        "#Set Data types"
      ],
      "metadata": {
        "id": "O7tZBoZv92L2"
      }
    },
    {
      "cell_type": "code",
      "source": [
        "#intializing the set\n",
        "\n",
        "s1 = set()\n",
        "\n",
        "s1 = set(\"I am using the google collab\")\n",
        "print(s1)\n",
        "\n",
        "s2 = set([\"I\", \"am\", \"using\", \"the\", \"google\", \"collab\"])\n",
        "print(s2)\n",
        "\n",
        "\n",
        "for i in s2:\n",
        "  print(i , end = \" \")\n",
        "\n",
        "print(\"using\" in s2)"
      ],
      "metadata": {
        "colab": {
          "base_uri": "https://localhost:8080/"
        },
        "id": "M4kJ-O04949a",
        "outputId": "9c0d67dd-8cea-420d-cb51-b50fc796549e"
      },
      "execution_count": null,
      "outputs": [
        {
          "output_type": "stream",
          "name": "stdout",
          "text": [
            "{' ', 'a', 'g', 'I', 'h', 'm', 'n', 'c', 'b', 's', 'o', 'u', 'l', 't', 'i', 'e'}\n",
            "{'I', 'using', 'google', 'am', 'the', 'collab'}\n",
            "I using google am the collab True\n"
          ]
        }
      ]
    },
    {
      "cell_type": "markdown",
      "source": [
        "#Dictionary Data Type"
      ],
      "metadata": {
        "id": "YpXgENr5_WJi"
      }
    },
    {
      "cell_type": "code",
      "source": [
        "d = {}\n",
        "print(d)\n",
        "\n",
        "\n",
        "\n",
        "d = {1 : 'Dicitonary', 2 : 'Data', 5 : 'Type'}\n",
        "\n",
        "print(d)\n",
        "print(d[5])"
      ],
      "metadata": {
        "colab": {
          "base_uri": "https://localhost:8080/"
        },
        "id": "EuEnNo-_-RDG",
        "outputId": "a866b4ee-206f-4a83-9e47-4e941dd20b53"
      },
      "execution_count": null,
      "outputs": [
        {
          "output_type": "stream",
          "name": "stdout",
          "text": [
            "{}\n",
            "{1: 'Dicitonary', 2: 'Data', 5: 'Type'}\n",
            "Type\n"
          ]
        }
      ]
    },
    {
      "cell_type": "code",
      "source": [],
      "metadata": {
        "id": "1yVfGn95_a3A"
      },
      "execution_count": null,
      "outputs": []
    }
  ]
}